{
 "cells": [
  {
   "cell_type": "code",
   "execution_count": null,
   "id": "9bd4c37c",
   "metadata": {},
   "outputs": [],
   "source": [
    "import torch\n",
    "import torch.nn as nn\n",
    "import torch.optim as optim\n",
    "from torch.utils.data import TensorDataset, DataLoader\n",
    "\n",
    "\n",
    "import pandas as pd\n",
    "import numpy as np"
   ]
  },
  {
   "cell_type": "markdown",
   "id": "bb9e4c6a",
   "metadata": {},
   "source": [
    "### Import Patient, Admission and ICU Data. Impute '0' if Discharge Date or ICU Out time is not available in the data. In that case we'll assume the mortality information during hospital stay is not known"
   ]
  },
  {
   "cell_type": "code",
   "execution_count": null,
   "id": "89ce38f6",
   "metadata": {},
   "outputs": [],
   "source": [
    "df_icu = pd.read_csv('../ICUSTAYS.csv')\n",
    "df_pat = pd.read_csv('../PATIENTS.csv')\n",
    "df_adm = pd.read_csv('../ADMISSIONS.csv')\n",
    "df_diag = pd.read_csv('../DIAGNOSES_ICD.csv')\n",
    "df_adm['DISCHTIME'].fillna('0',inplace=True)\n",
    "df_icu.OUTTIME.fillna('0',inplace=True)"
   ]
  },
  {
   "cell_type": "markdown",
   "id": "882fa45c",
   "metadata": {},
   "source": [
    "Check sample of each data frame\n",
    "\n",
    "##### Logic to find dead people during hospital stay is to check if the Date of Death is before the Discharge date or ICU out time. We'll add all Patient , visit and diagnosis list for all patients"
   ]
  },
  {
   "cell_type": "code",
   "execution_count": null,
   "id": "c9d0e25f",
   "metadata": {},
   "outputs": [],
   "source": [
    "#Mortality Calculation\n",
    "\n",
    "#Date of Death is before ICU Stay or Hospital Discharge for all Patients to find mortality count\n",
    "all_pat = []\n",
    "all_visits = []\n",
    "all_diags = []\n",
    "mortality = []\n",
    "dead = False\n",
    "# df_mort = df_pat[~df_pat.DOD.isnull()]\n",
    "for i, row in df_pat.iterrows():\n",
    "    \n",
    "    pid = row['SUBJECT_ID']\n",
    "#     print(pid)\n",
    "    if ~df_pat[df_pat.SUBJECT_ID == pid].DOD.isnull().values[0]:\n",
    "        ot = max(df_icu[df_icu.SUBJECT_ID ==pid].OUTTIME.values, default='0')\n",
    "#         ot = pd.to_datetime(ot).reset_index(drop=True)\n",
    "        dis_time = max(df_adm[df_adm.SUBJECT_ID == pid].DISCHTIME.values, default='0')\n",
    "        dod = df_pat[df_pat.SUBJECT_ID == pid].DOD.values[0]\n",
    "#         print(ot, dis_time, dod)\n",
    "        dead = (dod <= ot) or (dod <= dis_time)\n",
    "    if dead:\n",
    "        mortality.append(1)\n",
    "    else: \n",
    "        mortality.append(0)\n",
    "    all_pat.append(pid)\n",
    "    vids = list(df_adm[df_adm.SUBJECT_ID == pid]['HADM_ID'])\n",
    "    all_visits.append(vids)\n",
    "    pat_diags = []\n",
    "    for v in vids:\n",
    "        diags = list(df_diag[(df_diag.SUBJECT_ID == pid) & (df_diag.HADM_ID == v)]['ICD9_CODE'])\n",
    "        pat_diags.append(diags)\n",
    "    all_diags.append(pat_diags)\n",
    "    dead = False"
   ]
  },
  {
   "cell_type": "markdown",
   "id": "4eb90591",
   "metadata": {},
   "source": [
    "#### check if mortality rate matches with original paper and other data sanctity. We got 12.65% which is close to 13% as mentioned in the paper."
   ]
  },
  {
   "cell_type": "code",
   "execution_count": null,
   "id": "088687a5",
   "metadata": {},
   "outputs": [],
   "source": [
    "x = np.array(mortality)\n",
    "ind = np.where(x == 1)[0]\n",
    "dead_pat_in_hosp = [all_pat[i] for i in ind]\n",
    "len(dead_pat_in_hosp)\n",
    "\n",
    "df_mort = df_pat[~df_pat.DOD.isnull()]\n",
    "len(df_mort)\n",
    "mort_pat = list(df_mort.SUBJECT_ID.values)\n",
    "unmatched_pat = [d for d in mort_pat if d not in dead_pat_in_hosp]\n",
    "print(f\"Patient died after hospital admission is {len(unmatched_pat)} \\\n",
    "        and cohort mortality is {(len(dead_pat_in_hosp)/len(all_pat))*100}\")"
   ]
  },
  {
   "cell_type": "markdown",
   "id": "cc760b83",
   "metadata": {},
   "source": [
    "\n",
    "#### create dictionary for ICD9 codes so that we can handle only integers"
   ]
  },
  {
   "cell_type": "code",
   "execution_count": null,
   "id": "d802cffb",
   "metadata": {},
   "outputs": [],
   "source": [
    "#Get dictionary index for all ICD9 codes\n",
    "icd_uniq = df_diag.ICD9_CODE.unique()\n",
    "# icd_uniq = ['A', 'B', 'A']\n",
    "icd_dic = {}\n",
    "i = 0\n",
    "for code in icd_uniq:\n",
    "    icd_dic[code] = i\n",
    "    i += 1\n",
    "len(icd_dic)"
   ]
  },
  {
   "cell_type": "code",
   "execution_count": null,
   "id": "aa04019b",
   "metadata": {},
   "outputs": [],
   "source": [
    "print(\"Patient ID:\", all_pat[3])\n",
    "print(\"Dead:\", mortality[3])\n",
    "print(\"# of visits:\", len(all_visits[3]))\n",
    "for visit in range(len(all_visits[3])):\n",
    "    print(f\"\\t{visit}-th visit id:\", all_visits[3][visit])\n",
    "    print(f\"\\t{visit}-th visit diagnosis labels:\", all_diags[3][visit])\n",
    "#     print(f\"\\t{visit}-th visit diagnosis codes:\", [rtypes[label] for label in seqs[3][visit]])"
   ]
  },
  {
   "cell_type": "markdown",
   "id": "82d3dc31",
   "metadata": {},
   "source": [
    "#### Create custom Dataset to get sequences and target values (mortality)"
   ]
  },
  {
   "cell_type": "code",
   "execution_count": null,
   "id": "f7a994cf",
   "metadata": {},
   "outputs": [],
   "source": [
    "from torch.utils.data import Dataset\n",
    "\n",
    "\n",
    "class CustomDataset(Dataset):\n",
    "    \n",
    "    def __init__(self, seqs, mortality):\n",
    "        \n",
    "        \"\"\"\n",
    "        TODO: Store `seqs`. to `self.x` and `hfs` to `self.y`.\n",
    "        \n",
    "        Note that you DO NOT need to covert them to tensor as we will do this later.\n",
    "        Do NOT permute the data.\n",
    "        \"\"\"\n",
    "        \n",
    "        # your code here\n",
    "        self.x = seqs\n",
    "        self.y = mortality\n",
    "#         raise NotImplementedError\n",
    "    \n",
    "    def __len__(self):\n",
    "        \n",
    "        \"\"\"\n",
    "        TODO: Return the number of samples (i.e. patients).\n",
    "        \"\"\"\n",
    "        \n",
    "        # your code here\n",
    "        return len(self.y)\n",
    "#         raise NotImplementedError\n",
    "    \n",
    "    def __getitem__(self, index):\n",
    "        \n",
    "        \"\"\"\n",
    "        TODO: Generates one sample of data.\n",
    "        \n",
    "        Note that you DO NOT need to covert them to tensor as we will do this later.\n",
    "        \"\"\"\n",
    "        \n",
    "        # your code here\n",
    "        seq = self.x[index]\n",
    "        hf = self.y[index]\n",
    "\n",
    "        return seq, hf\n",
    "#         raise NotImplementedError\n",
    "        \n",
    "\n",
    "dataset = CustomDataset(all_diags, mortality)"
   ]
  },
  {
   "cell_type": "markdown",
   "id": "64ab3628",
   "metadata": {},
   "source": [
    "#### get Max number of visit and sequences from diagnostic code"
   ]
  },
  {
   "cell_type": "code",
   "execution_count": null,
   "id": "1e68e657",
   "metadata": {},
   "outputs": [],
   "source": [
    "num_visits = [len(patient) for patient in all_visits]\n",
    "num_codes = [len(visit) for patient in all_diags for visit in patient]\n",
    "max_num_visits = max(num_visits)\n",
    "max_num_codes = max(num_codes)\n",
    "max_num_visits, max_num_codes"
   ]
  },
  {
   "cell_type": "markdown",
   "id": "a6364f08",
   "metadata": {},
   "source": [
    "### write a collate function to group seq and y together for dataload"
   ]
  },
  {
   "cell_type": "code",
   "execution_count": null,
   "id": "12079b72",
   "metadata": {},
   "outputs": [],
   "source": [
    "def collate_fn(data):\n",
    "    \n",
    "    sequences, labels = zip(*data)\n",
    "    y = torch.tensor(labels, dtype=torch.int64)\n",
    "    num_patients = len(sequences)\n",
    "    num_visits = [len(patient) for patient in sequences]\n",
    "    num_codes = [len(visit) for patient in sequences for visit in patient]\n",
    "    max_num_visits = 42 #max(num_visits)\n",
    "    max_num_codes = 39 #max(num_codes)\n",
    "#     print(max_num_visits, max_num_codes, len(y) )\n",
    "    x = torch.zeros((num_patients, max_num_visits, max_num_codes), dtype=torch.float)\n",
    "    for i_patient, patient in enumerate(sequences):\n",
    "        for j_visit, visit in enumerate(patient):\n",
    "            for k_diag, diag in enumerate(visit):\n",
    "                if diag != diag:\n",
    "#                     print(diag, i_patient, j_visit,k_diag) \n",
    "                    continue\n",
    "                else: x[i_patient, j_visit,k_diag ] =icd_dic[diag]\n",
    "#     x = x.type(torch.LongTensor)\n",
    "#     y = y.type(torch.LongTensor)\n",
    "    return x, y\n"
   ]
  },
  {
   "cell_type": "markdown",
   "id": "99f83bda",
   "metadata": {},
   "source": [
    "#### Create Train , Validation and Test dataset"
   ]
  },
  {
   "cell_type": "code",
   "execution_count": null,
   "id": "0c1f4e2c",
   "metadata": {},
   "outputs": [],
   "source": [
    "from torch.utils.data.dataset import random_split\n",
    "\n",
    "split = int(len(dataset)*0.7)\n",
    "\n",
    "lengths = [split, len(dataset) - split]\n",
    "train_dataset, val_test_dataset = random_split(dataset, lengths)\n",
    "\n",
    "\n",
    "split = int(len(val_test_dataset)*0.7)\n",
    "lengths = [split, len(val_test_dataset) - split]\n",
    "val_dataset, test_dataset = random_split(val_test_dataset, lengths)\n",
    "\n",
    "\n",
    "print(\"Length of train dataset:\", len(train_dataset))\n",
    "print(\"Length of val dataset:\", len(val_dataset))\n",
    "print(\"Length of test dataset:\", len(test_dataset))"
   ]
  },
  {
   "cell_type": "markdown",
   "id": "48059338",
   "metadata": {},
   "source": [
    "#### Load the inital data into train_loader, val_loader, test_loader"
   ]
  },
  {
   "cell_type": "code",
   "execution_count": null,
   "id": "fb07dc2c",
   "metadata": {},
   "outputs": [],
   "source": [
    "def load_data(train_dataset, val_dataset, test_dataset, batch_size, collate_fn):\n",
    "    batch_size = batch_size\n",
    "    train_loader = DataLoader(train_dataset, batch_size=batch_size, shuffle=False, collate_fn=collate_fn)\n",
    "    val_loader = DataLoader(val_dataset, batch_size=batch_size, collate_fn=collate_fn)\n",
    "    test_loader = DataLoader(test_dataset, batch_size=batch_size, collate_fn=collate_fn)\n",
    "    \n",
    "    return train_loader, val_loader, test_loader\n",
    "\n",
    "batch_size = 128\n",
    "train_loader, val_loader, test_loader = load_data(train_dataset, val_dataset, test_dataset, batch_size, collate_fn)\n",
    "\n",
    "in_feature = 39\n",
    "seq_len = 42\n",
    "n_heads = 32\n",
    "factor = 5 # M - dense interpolation factor\n",
    "num_class = 2\n",
    "num_layers = 1 #N\n"
   ]
  },
  {
   "cell_type": "markdown",
   "id": "9a1f39f9",
   "metadata": {},
   "source": [
    "### Import Sand and relevant classes to run our Training and evaluate job"
   ]
  },
  {
   "cell_type": "code",
   "execution_count": null,
   "id": "1fb9616b",
   "metadata": {},
   "outputs": [],
   "source": [
    "from sand_144 import SAnD"
   ]
  },
  {
   "cell_type": "code",
   "execution_count": null,
   "id": "c6a95bc6",
   "metadata": {},
   "outputs": [],
   "source": [
    "clf = sand_144.MyNeuralNetworkClassifier(\n",
    "    SAnD(in_feature, seq_len, n_heads, factor, num_class, num_layers),\n",
    "    nn.CrossEntropyLoss(),\n",
    "    optim.Adam, optimizer_config={\"lr\": 1e-5, \"betas\": (0.9, 0.98), \"eps\": 4e-09, \"weight_decay\": 5e-4},\n",
    ")\n"
   ]
  },
  {
   "cell_type": "code",
   "execution_count": null,
   "id": "07664e66",
   "metadata": {},
   "outputs": [],
   "source": [
    "# training network\n",
    "clf.fit(\n",
    "    {\"train\": train_loader,\n",
    "     \"val\": val_loader},\n",
    "     epochs= 1\n",
    ")"
   ]
  },
  {
   "cell_type": "code",
   "execution_count": null,
   "id": "5628ce6b",
   "metadata": {},
   "outputs": [],
   "source": [
    "import tqdm\n",
    "\n",
    "def my_evaluate(model):\n",
    "\n",
    "    correct = 0.0\n",
    "    total = 0.0\n",
    "    device = torch.device(\"cuda\" if torch.cuda.is_available() else \"cpu\")\n",
    "    pbar = tqdm.tqdm(total=len(test_loader.dataset))\n",
    "#     model = SAnD(in_feature, seq_len, n_heads, factor, num_class, num_layers)\n",
    "    model = model.to(device)\n",
    "    criterion = nn.CrossEntropyLoss()\n",
    "    Y_pred= []\n",
    "    Y_true = []\n",
    "    for x, y in test_loader:\n",
    "    #     print(\"Here is type & shape\", type(y), y.shape)\n",
    "        b_size = y.shape[0]\n",
    "        total += y.shape[0]\n",
    "        x = x.to(device) if isinstance(x, torch.Tensor) else [i.to(device) for i in x]\n",
    "        y = y.to(device)\n",
    "\n",
    "        pbar.set_description(\"\\033[32m\"+\"Evaluating\"+\"\\033[0m\")\n",
    "        pbar.update(b_size)\n",
    "\n",
    "        outputs = model(x)\n",
    "    #     print(outputs)\n",
    "        idx = torch.argmax(outputs, dim=1) \n",
    "        print(idx)\n",
    "    #     _, predicted = torch.max(outputs, 1)\n",
    "        Y_pred.append(idx)\n",
    "        Y_true.append(y)\n",
    "\n",
    "    #     multilabel_auroc(predicted, y,num_labels=2, average=\"macro\", thresholds=None)\n",
    "\n",
    "    Y_pred = np.concatenate(Y_pred, axis=0)\n",
    "    Y_true = np.concatenate(Y_true, axis=0)\n",
    "    \n",
    "    return Y_pred, Y_true\n"
   ]
  },
  {
   "cell_type": "code",
   "execution_count": null,
   "id": "ceaafbcd",
   "metadata": {},
   "outputs": [],
   "source": []
  },
  {
   "cell_type": "code",
   "execution_count": null,
   "id": "1aae4159",
   "metadata": {},
   "outputs": [],
   "source": [
    "from sklearn.metrics import roc_auc_score\n",
    "roc_auc_score(\n",
    "    Y_pred,\n",
    "    Y_true,\n",
    "    multi_class=\"raise\",\n",
    "    average=\"micro\",\n",
    ")"
   ]
  },
  {
   "cell_type": "code",
   "execution_count": null,
   "id": "c9be7fe4",
   "metadata": {},
   "outputs": [],
   "source": [
    "from sklearn.metrics import precision_score, recall_score, auc, precision_recall_curve\n",
    "p = precision_score(Y_true, Y_pred)\n",
    "r = recall_score(Y_true, Y_pred)\n",
    "p, r, thresholds1  = precision_recall_curve(Y_true, Y_pred)\n",
    "auc_score = auc(r, p)\n",
    "print(auc_score)"
   ]
  },
  {
   "cell_type": "markdown",
   "id": "5093c077",
   "metadata": {},
   "source": [
    "## Run the model and evaluate for different perparameter combination"
   ]
  },
  {
   "cell_type": "code",
   "execution_count": null,
   "id": "145ce0bf",
   "metadata": {},
   "outputs": [],
   "source": [
    "\n",
    "param = [[6,1], [12,1], [18,1], [6,4],[12,4], [18,4]]\n",
    "ROC = []\n",
    "\n",
    "for factor, num_layers in param:\n",
    "    print(factor, num_layers)\n",
    "    clf = sand_144.MyNeuralNetworkClassifier(\n",
    "        SAnD(in_feature, seq_len, n_heads, factor, num_class, num_layers),\n",
    "        nn.CrossEntropyLoss(),\n",
    "        optim.Adam, optimizer_config={\"lr\": 1e-5, \"betas\": (0.9, 0.98), \"eps\": 4e-09, \"weight_decay\": 5e-4},\n",
    "        )\n",
    "    clf.fit(\n",
    "            {\"train\": train_loader,\n",
    "             \"val\": val_loader},\n",
    "             epochs= 1\n",
    "            )\n",
    "    \n",
    "    Y_pred, Y_true = my_evaluate(clf.model)\n",
    "    roc = roc_auc_score(\n",
    "            Y_pred,\n",
    "            Y_true,\n",
    "            multi_class=\"raise\",\n",
    "            average=\"micro\",\n",
    "            )\n",
    "    ROC.append(roc)\n"
   ]
  },
  {
   "cell_type": "code",
   "execution_count": null,
   "id": "75104435",
   "metadata": {},
   "outputs": [],
   "source": [
    "ROC"
   ]
  },
  {
   "cell_type": "code",
   "execution_count": null,
   "id": "8167fe4c",
   "metadata": {},
   "outputs": [],
   "source": [
    "import matplotlib.pyplot as plt"
   ]
  },
  {
   "cell_type": "code",
   "execution_count": 51,
   "id": "e271dd28",
   "metadata": {},
   "outputs": [
    {
     "data": {
      "image/png": "[encoded data removed]",
      "text/plain": [
       "<Figure size 640x480 with 1 Axes>"
      ]
     },
     "metadata": {},
     "output_type": "display_data"
    }
   ],
   "source": [
    "x = [6, 12, 18]\n",
    "y1 = [.525, .526, .507]\n",
    "y2 = [.535, 0.513, 0.518]\n",
    "\n",
    "# Plot the data and set the line colors and labels\n",
    "plt.plot(x, y1, color='blue', label='N = 1')\n",
    "plt.plot(x, y2, color='red', label='N = 4')\n",
    "\n",
    "# Add a legend with the line colors\n",
    "plt.legend(frameon=False)\n",
    "plt.xlabel(\"dense interpolation factor\") \n",
    "plt.ylabel(\"AUROC\")\n",
    "\n",
    "# Show the plot\n",
    "plt.show()"
   ]
  },
  {
   "cell_type": "code",
   "execution_count": null,
   "id": "e713251a",
   "metadata": {},
   "outputs": [],
   "source": []
  }
 ],
 "metadata": {
  "kernelspec": {
   "display_name": "Python 3 (ipykernel)",
   "language": "python",
   "name": "python3"
  },
  "language_info": {
   "codemirror_mode": {
    "name": "ipython",
    "version": 3
   },
   "file_extension": ".py",
   "mimetype": "text/x-python",
   "name": "python",
   "nbconvert_exporter": "python",
   "pygments_lexer": "ipython3",
   "version": "3.9.13"
  }
 },
 "nbformat": 4,
 "nbformat_minor": 5
}
