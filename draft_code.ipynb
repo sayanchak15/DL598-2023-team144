{
 "cells": [
  {
   "cell_type": "code",
   "execution_count": 1,
   "id": "0938a45c",
   "metadata": {},
   "outputs": [],
   "source": [
    "import torch\n",
    "import torch.nn as nn\n",
    "import torch.optim as optim\n",
    "from torch.utils.data import TensorDataset, DataLoader\n",
    "\n",
    "\n",
    "import pandas as pd\n",
    "import numpy as np"
   ]
  },
  {
   "cell_type": "code",
   "execution_count": null,
   "id": "e5ee3b45",
   "metadata": {},
   "outputs": [],
   "source": []
  },
  {
   "cell_type": "code",
   "execution_count": 3,
   "id": "5c4a606c",
   "metadata": {},
   "outputs": [],
   "source": [
    "df_icu = pd.read_csv('../ICUSTAYS.csv')\n",
    "df_pat = pd.read_csv('../PATIENTS.csv')\n",
    "df_adm = pd.read_csv('../ADMISSIONS.csv')\n",
    "df_diag = pd.read_csv('../DIAGNOSES_ICD.csv')\n",
    "df_adm['DISCHTIME'].fillna('0',inplace=True)\n",
    "df_icu.OUTTIME.fillna('0',inplace=True)"
   ]
  },
  {
   "cell_type": "code",
   "execution_count": null,
   "id": "189ccd16",
   "metadata": {},
   "outputs": [],
   "source": []
  },
  {
   "cell_type": "code",
   "execution_count": 4,
   "id": "70cda887",
   "metadata": {},
   "outputs": [],
   "source": [
    "#Mortality Calculation\n",
    "\n",
    "#Date of Death is before ICU Stay or Hospital Discharge for all Patients to find mortality count\n",
    "all_pat = []\n",
    "all_visits = []\n",
    "all_diags = []\n",
    "mortality = []\n",
    "dead = False\n",
    "# df_mort = df_pat[~df_pat.DOD.isnull()]\n",
    "for i, row in df_pat.iterrows():\n",
    "    \n",
    "    pid = row['SUBJECT_ID']\n",
    "#     print(pid)\n",
    "    if ~df_pat[df_pat.SUBJECT_ID == pid].DOD.isnull().values[0]:\n",
    "        ot = max(df_icu[df_icu.SUBJECT_ID ==pid].OUTTIME.values, default='0')\n",
    "#         ot = pd.to_datetime(ot).reset_index(drop=True)\n",
    "        dis_time = max(df_adm[df_adm.SUBJECT_ID == pid].DISCHTIME.values, default='0')\n",
    "        dod = df_pat[df_pat.SUBJECT_ID == pid].DOD.values[0]\n",
    "#         print(ot, dis_time, dod)\n",
    "        dead = (dod <= ot) or (dod <= dis_time)\n",
    "    if dead:\n",
    "        mortality.append(1)\n",
    "    else: \n",
    "        mortality.append(0)\n",
    "    all_pat.append(pid)\n",
    "    vids = list(df_adm[df_adm.SUBJECT_ID == pid]['HADM_ID'])\n",
    "    all_visits.append(vids)\n",
    "    pat_diags = []\n",
    "    for v in vids:\n",
    "        diags = list(df_diag[(df_diag.SUBJECT_ID == pid) & (df_diag.HADM_ID == v)]['ICD9_CODE'])\n",
    "        pat_diags.append(diags)\n",
    "    all_diags.append(pat_diags)\n",
    "    dead = False"
   ]
  },
  {
   "cell_type": "code",
   "execution_count": null,
   "id": "0665361e",
   "metadata": {},
   "outputs": [],
   "source": []
  },
  {
   "cell_type": "code",
   "execution_count": 5,
   "id": "25b14cc7",
   "metadata": {},
   "outputs": [
    {
     "name": "stdout",
     "output_type": "stream",
     "text": [
      "Patient died after hospital admission is 9872         and cohort mortality is 12.654772141014616\n"
     ]
    }
   ],
   "source": [
    "x = np.array(mortality)\n",
    "ind = np.where(x == 1)[0]\n",
    "dead_pat_in_hosp = [all_pat[i] for i in ind]\n",
    "len(dead_pat_in_hosp)\n",
    "\n",
    "df_mort = df_pat[~df_pat.DOD.isnull()]\n",
    "len(df_mort)\n",
    "mort_pat = list(df_mort.SUBJECT_ID.values)\n",
    "unmatched_pat = [d for d in mort_pat if d not in dead_pat_in_hosp]\n",
    "print(f\"Patient died after hospital admission is {len(unmatched_pat)} \\\n",
    "        and cohort mortality is {(len(dead_pat_in_hosp)/len(all_pat))*100}\")"
   ]
  },
  {
   "cell_type": "code",
   "execution_count": null,
   "id": "1267b5be",
   "metadata": {},
   "outputs": [],
   "source": []
  },
  {
   "cell_type": "code",
   "execution_count": 6,
   "id": "a54931cf",
   "metadata": {},
   "outputs": [
    {
     "data": {
      "text/plain": [
       "6985"
      ]
     },
     "execution_count": 6,
     "metadata": {},
     "output_type": "execute_result"
    }
   ],
   "source": [
    "#Get dictionary index for all ICD9 codes\n",
    "icd_uniq = df_diag.ICD9_CODE.unique()\n",
    "# icd_uniq = ['A', 'B', 'A']\n",
    "icd_dic = {}\n",
    "i = 0\n",
    "for code in icd_uniq:\n",
    "    icd_dic[code] = i\n",
    "    i += 1\n",
    "len(icd_dic)"
   ]
  },
  {
   "cell_type": "code",
   "execution_count": 7,
   "id": "1b926de8",
   "metadata": {},
   "outputs": [
    {
     "name": "stdout",
     "output_type": "stream",
     "text": [
      "Patient ID: 252\n",
      "Dead: 0\n",
      "# of visits: 2\n",
      "\t0-th visit id: 190159\n",
      "\t0-th visit diagnosis labels: ['5712', '45620', '5780', '51881', '78559', '5722', '7895', '45341', '5990', '5849', '30500', '2867', '2761', '2875', '486', '5997', '8670', '2639', '2851', '5723', '34831', '2738', '5798', '0701', '3051', 'V1301', 'E8796']\n",
      "\t1-th visit id: 193470\n",
      "\t1-th visit diagnosis labels: ['5712', '45620', '7895', '2851', '3575']\n"
     ]
    }
   ],
   "source": [
    "print(\"Patient ID:\", all_pat[3])\n",
    "print(\"Dead:\", mortality[3])\n",
    "print(\"# of visits:\", len(all_visits[3]))\n",
    "for visit in range(len(all_visits[3])):\n",
    "    print(f\"\\t{visit}-th visit id:\", all_visits[3][visit])\n",
    "    print(f\"\\t{visit}-th visit diagnosis labels:\", all_diags[3][visit])\n",
    "#     print(f\"\\t{visit}-th visit diagnosis codes:\", [rtypes[label] for label in seqs[3][visit]])"
   ]
  },
  {
   "cell_type": "code",
   "execution_count": null,
   "id": "e5820a32",
   "metadata": {},
   "outputs": [],
   "source": []
  },
  {
   "cell_type": "code",
   "execution_count": 8,
   "id": "1f1c9fe9",
   "metadata": {},
   "outputs": [],
   "source": [
    "from torch.utils.data import Dataset\n",
    "\n",
    "\n",
    "class CustomDataset(Dataset):\n",
    "    \n",
    "    def __init__(self, seqs, mortality):\n",
    "        \n",
    "        \"\"\"\n",
    "        TODO: Store `seqs`. to `self.x` and `hfs` to `self.y`.\n",
    "        \n",
    "        Note that you DO NOT need to covert them to tensor as we will do this later.\n",
    "        Do NOT permute the data.\n",
    "        \"\"\"\n",
    "        \n",
    "        # your code here\n",
    "        self.x = seqs\n",
    "        self.y = mortality\n",
    "#         raise NotImplementedError\n",
    "    \n",
    "    def __len__(self):\n",
    "        \n",
    "        \"\"\"\n",
    "        TODO: Return the number of samples (i.e. patients).\n",
    "        \"\"\"\n",
    "        \n",
    "        # your code here\n",
    "        return len(self.y)\n",
    "#         raise NotImplementedError\n",
    "    \n",
    "    def __getitem__(self, index):\n",
    "        \n",
    "        \"\"\"\n",
    "        TODO: Generates one sample of data.\n",
    "        \n",
    "        Note that you DO NOT need to covert them to tensor as we will do this later.\n",
    "        \"\"\"\n",
    "        \n",
    "        # your code here\n",
    "        seq = self.x[index]\n",
    "        hf = self.y[index]\n",
    "\n",
    "        return seq, hf\n",
    "#         raise NotImplementedError\n",
    "        \n",
    "\n",
    "dataset = CustomDataset(all_diags, mortality)"
   ]
  },
  {
   "cell_type": "code",
   "execution_count": 9,
   "id": "d8f7f11f",
   "metadata": {},
   "outputs": [
    {
     "data": {
      "text/plain": [
       "(42, 39)"
      ]
     },
     "execution_count": 9,
     "metadata": {},
     "output_type": "execute_result"
    }
   ],
   "source": [
    "num_visits = [len(patient) for patient in all_visits]\n",
    "num_codes = [len(visit) for patient in all_diags for visit in patient]\n",
    "max_num_visits = max(num_visits)\n",
    "max_num_codes = max(num_codes)\n",
    "max_num_visits, max_num_codes"
   ]
  },
  {
   "cell_type": "code",
   "execution_count": 10,
   "id": "e366582d",
   "metadata": {},
   "outputs": [],
   "source": [
    "def collate_fn(data):\n",
    "    \n",
    "    sequences, labels = zip(*data)\n",
    "    y = torch.tensor(labels, dtype=torch.int64)\n",
    "    num_patients = len(sequences)\n",
    "    num_visits = [len(patient) for patient in sequences]\n",
    "    num_codes = [len(visit) for patient in sequences for visit in patient]\n",
    "    max_num_visits = 42 #max(num_visits)\n",
    "    max_num_codes = 39 #max(num_codes)\n",
    "#     print(max_num_visits, max_num_codes, len(y) )\n",
    "    x = torch.zeros((num_patients, max_num_visits, max_num_codes), dtype=torch.float)\n",
    "    for i_patient, patient in enumerate(sequences):\n",
    "        for j_visit, visit in enumerate(patient):\n",
    "            for k_diag, diag in enumerate(visit):\n",
    "                if diag != diag:\n",
    "#                     print(diag, i_patient, j_visit,k_diag) \n",
    "                    continue\n",
    "                else: x[i_patient, j_visit,k_diag ] =icd_dic[diag]\n",
    "#     x = x.type(torch.LongTensor)\n",
    "#     y = y.type(torch.LongTensor)\n",
    "    return x, y\n"
   ]
  },
  {
   "cell_type": "code",
   "execution_count": 11,
   "id": "f2582680",
   "metadata": {},
   "outputs": [
    {
     "name": "stdout",
     "output_type": "stream",
     "text": [
      "Length of train dataset: 32563\n",
      "Length of val dataset: 9769\n",
      "Length of test dataset: 4188\n"
     ]
    }
   ],
   "source": [
    "from torch.utils.data.dataset import random_split\n",
    "\n",
    "split = int(len(dataset)*0.7)\n",
    "\n",
    "lengths = [split, len(dataset) - split]\n",
    "train_dataset, val_test_dataset = random_split(dataset, lengths)\n",
    "\n",
    "\n",
    "split = int(len(val_test_dataset)*0.7)\n",
    "lengths = [split, len(val_test_dataset) - split]\n",
    "val_dataset, test_dataset = random_split(val_test_dataset, lengths)\n",
    "\n",
    "\n",
    "print(\"Length of train dataset:\", len(train_dataset))\n",
    "print(\"Length of val dataset:\", len(val_dataset))\n",
    "print(\"Length of test dataset:\", len(test_dataset))"
   ]
  },
  {
   "cell_type": "code",
   "execution_count": 12,
   "id": "a7065184",
   "metadata": {},
   "outputs": [],
   "source": [
    "def load_data(train_dataset, val_dataset, test_dataset, batch_size, collate_fn):\n",
    "    batch_size = batch_size\n",
    "    train_loader = DataLoader(train_dataset, batch_size=batch_size, shuffle=False, collate_fn=collate_fn)\n",
    "    val_loader = DataLoader(val_dataset, batch_size=batch_size, collate_fn=collate_fn)\n",
    "    test_loader = DataLoader(test_dataset, batch_size=batch_size, collate_fn=collate_fn)\n",
    "    \n",
    "    return train_loader, val_loader, test_loader\n",
    "\n",
    "batch_size = 128\n",
    "train_loader, val_loader, test_loader = load_data(train_dataset, val_dataset, test_dataset, batch_size, collate_fn)\n",
    "\n",
    "in_feature = 39\n",
    "seq_len = 42\n",
    "n_heads = 32\n",
    "factor = 5 # M - dense interpolation factor\n",
    "num_class = 2\n",
    "num_layers = 1 #N\n"
   ]
  },
  {
   "cell_type": "code",
   "execution_count": null,
   "id": "907faf05",
   "metadata": {},
   "outputs": [],
   "source": []
  },
  {
   "cell_type": "code",
   "execution_count": 21,
   "id": "a22069ed",
   "metadata": {},
   "outputs": [],
   "source": [
    "from sand_144 import SAnD"
   ]
  },
  {
   "cell_type": "code",
   "execution_count": 22,
   "id": "9a271823",
   "metadata": {},
   "outputs": [],
   "source": [
    "clf = sand_144.MyNeuralNetworkClassifier(\n",
    "    SAnD(in_feature, seq_len, n_heads, factor, num_class, num_layers),\n",
    "    nn.CrossEntropyLoss(),\n",
    "    optim.Adam, optimizer_config={\"lr\": 1e-5, \"betas\": (0.9, 0.98), \"eps\": 4e-09, \"weight_decay\": 5e-4},\n",
    ")\n"
   ]
  },
  {
   "cell_type": "code",
   "execution_count": 23,
   "id": "27b3e77b",
   "metadata": {},
   "outputs": [
    {
     "name": "stderr",
     "output_type": "stream",
     "text": [
      "\n",
      "  0%|                                                 | 0/32563 [00:00<?, ?it/s]\u001b[A\n",
      "\u001b[36mTraining\u001b[0m - Epochs: 001/001:   0%|                     | 0/32563 [00:00<?, ?it/s]\u001b[0m\u001b[A\n",
      "\u001b[36mTraining\u001b[0m - Epochs: 001/001:   0%|         | 128/32563 [00:00<00:32, 1013.30it/s]\u001b[0m\u001b[A\n",
      "\u001b[36mTraining\u001b[0m - Epochs: 001/001:   1%|         | 256/32563 [00:00<00:16, 2014.64it/s]\u001b[0m\u001b[A"
     ]
    },
    {
     "name": "stdout",
     "output_type": "stream",
     "text": [
      "EncoderBlock torch.Size([128, 42, 128])\n",
      "EncoderBlock torch.Size([128, 42, 128])\n"
     ]
    },
    {
     "name": "stderr",
     "output_type": "stream",
     "text": [
      "\n",
      "\u001b[36mTraining\u001b[0m - Epochs: 001/001:   1%|         | 256/32563 [00:00<00:16, 2014.64it/s]\u001b[0m\u001b[A\n",
      "\u001b[36mTraining\u001b[0m - Epochs: 001/001:   1%|         | 384/32563 [00:00<00:15, 2014.64it/s]\u001b[0m\u001b[A\n",
      "\u001b[36mTraining\u001b[0m - Epochs: 001/001:   2%|▏        | 512/32563 [00:00<00:22, 1449.19it/s]\u001b[0m\u001b[A\n",
      "\u001b[36mTraining\u001b[0m - Epochs: 001/001:   2%|▏        | 512/32563 [00:00<00:22, 1449.19it/s]\u001b[0m\u001b[A"
     ]
    },
    {
     "name": "stdout",
     "output_type": "stream",
     "text": [
      "EncoderBlock torch.Size([128, 42, 128])\n",
      "EncoderBlock torch.Size([128, 42, 128])\n",
      "EncoderBlock torch.Size([128, 42, 128])\n"
     ]
    },
    {
     "name": "stderr",
     "output_type": "stream",
     "text": [
      "\n",
      "\u001b[36mTraining\u001b[0m - Epochs: 001/001:   2%|▏        | 640/32563 [00:00<00:22, 1449.19it/s]\u001b[0m\u001b[A\n",
      "\u001b[36mTraining\u001b[0m - Epochs: 001/001:   2%|▏        | 768/32563 [00:00<00:21, 1454.06it/s]\u001b[0m\u001b[A\n",
      "\u001b[36mTraining\u001b[0m - Epochs: 001/001:   2%|▏        | 768/32563 [00:00<00:21, 1454.06it/s]\u001b[0m\u001b[A\n",
      "\u001b[36mTraining\u001b[0m - Epochs: 001/001:   3%|▏        | 896/32563 [00:00<00:21, 1454.06it/s]\u001b[0m\u001b[A\n",
      "\u001b[36mTraining\u001b[0m - Epochs: 001/001:   3%|▎       | 1024/32563 [00:00<00:21, 1453.61it/s]\u001b[0m\u001b[A"
     ]
    },
    {
     "name": "stdout",
     "output_type": "stream",
     "text": [
      "EncoderBlock torch.Size([128, 42, 128])\n",
      "EncoderBlock torch.Size([128, 42, 128])\n",
      "EncoderBlock torch.Size([128, 42, 128])\n"
     ]
    },
    {
     "name": "stderr",
     "output_type": "stream",
     "text": [
      "\n",
      "\u001b[36mTraining\u001b[0m - Epochs: 001/001:   3%|▎       | 1024/32563 [00:00<00:21, 1453.61it/s]\u001b[0m\u001b[A\n",
      "\u001b[36mTraining\u001b[0m - Epochs: 001/001:   4%|▎       | 1152/32563 [00:00<00:21, 1453.61it/s]\u001b[0m\u001b[A\n",
      "\u001b[36mTraining\u001b[0m - Epochs: 001/001:   4%|▎       | 1280/32563 [00:00<00:21, 1457.83it/s]\u001b[0m\u001b[A\n",
      "\u001b[36mTraining\u001b[0m - Epochs: 001/001:   4%|▎       | 1280/32563 [00:00<00:21, 1457.83it/s]\u001b[0m\u001b[A"
     ]
    },
    {
     "name": "stdout",
     "output_type": "stream",
     "text": [
      "EncoderBlock torch.Size([128, 42, 128])\n",
      "EncoderBlock torch.Size([128, 42, 128])\n",
      "EncoderBlock torch.Size([128, 42, 128])\n"
     ]
    },
    {
     "name": "stderr",
     "output_type": "stream",
     "text": [
      "\n",
      "\u001b[36mTraining\u001b[0m - Epochs: 001/001:   4%|▎       | 1408/32563 [00:01<00:21, 1457.83it/s]\u001b[0m\u001b[A\n",
      "\u001b[36mTraining\u001b[0m - Epochs: 001/001:   5%|▍       | 1536/32563 [00:01<00:21, 1463.57it/s]\u001b[0m\u001b[A\n",
      "\u001b[36mTraining\u001b[0m - Epochs: 001/001:   5%|▍       | 1536/32563 [00:01<00:21, 1463.57it/s]\u001b[0m\u001b[A\n",
      "\u001b[36mTraining\u001b[0m - Epochs: 001/001:   5%|▍       | 1664/32563 [00:01<00:21, 1463.57it/s]\u001b[0m\u001b[A\n",
      "\u001b[36mTraining\u001b[0m - Epochs: 001/001:   6%|▍       | 1792/32563 [00:01<00:21, 1462.17it/s]\u001b[0m\u001b[A"
     ]
    },
    {
     "name": "stdout",
     "output_type": "stream",
     "text": [
      "EncoderBlock torch.Size([128, 42, 128])\n",
      "EncoderBlock torch.Size([128, 42, 128])\n",
      "EncoderBlock torch.Size([128, 42, 128])\n"
     ]
    },
    {
     "name": "stderr",
     "output_type": "stream",
     "text": [
      "\n",
      "\u001b[36mTraining\u001b[0m - Epochs: 001/001:   6%|▍       | 1792/32563 [00:01<00:21, 1462.17it/s]\u001b[0m\u001b[A\n",
      "\u001b[36mTraining\u001b[0m - Epochs: 001/001:   6%|▍       | 1920/32563 [00:01<00:20, 1462.17it/s]\u001b[0m\u001b[A\n",
      "\u001b[36mTraining\u001b[0m - Epochs: 001/001:   6%|▌       | 2048/32563 [00:01<00:20, 1460.94it/s]\u001b[0m\u001b[A\n",
      "\u001b[36mTraining\u001b[0m - Epochs: 001/001:   6%|▌       | 2048/32563 [00:01<00:20, 1460.94it/s]\u001b[0m\u001b[A"
     ]
    },
    {
     "name": "stdout",
     "output_type": "stream",
     "text": [
      "EncoderBlock torch.Size([128, 42, 128])\n",
      "EncoderBlock torch.Size([128, 42, 128])\n",
      "EncoderBlock torch.Size([128, 42, 128])\n"
     ]
    },
    {
     "name": "stderr",
     "output_type": "stream",
     "text": [
      "\n",
      "\u001b[36mTraining\u001b[0m - Epochs: 001/001:   7%|▌       | 2176/32563 [00:01<00:20, 1460.94it/s]\u001b[0m\u001b[A\n",
      "\u001b[36mTraining\u001b[0m - Epochs: 001/001:   7%|▌       | 2304/32563 [00:01<00:20, 1451.35it/s]\u001b[0m\u001b[A\n",
      "\u001b[36mTraining\u001b[0m - Epochs: 001/001:   7%|▌       | 2304/32563 [00:01<00:20, 1451.35it/s]\u001b[0m\u001b[A\n",
      "\u001b[36mTraining\u001b[0m - Epochs: 001/001:   7%|▌       | 2432/32563 [00:01<00:20, 1451.35it/s]\u001b[0m\u001b[A\n",
      "\u001b[36mTraining\u001b[0m - Epochs: 001/001:   8%|▋       | 2560/32563 [00:01<00:20, 1458.50it/s]\u001b[0m\u001b[A"
     ]
    },
    {
     "name": "stdout",
     "output_type": "stream",
     "text": [
      "EncoderBlock torch.Size([128, 42, 128])\n",
      "EncoderBlock torch.Size([128, 42, 128])\n",
      "EncoderBlock torch.Size([128, 42, 128])\n"
     ]
    },
    {
     "name": "stderr",
     "output_type": "stream",
     "text": [
      "\n",
      "\u001b[36mTraining\u001b[0m - Epochs: 001/001:   8%|▋       | 2560/32563 [00:01<00:20, 1458.50it/s]\u001b[0m\u001b[A\n",
      "\u001b[36mTraining\u001b[0m - Epochs: 001/001:   8%|▋       | 2688/32563 [00:01<00:20, 1458.50it/s]\u001b[0m\u001b[A\n",
      "\u001b[36mTraining\u001b[0m - Epochs: 001/001:   9%|▋       | 2816/32563 [00:01<00:20, 1467.26it/s]\u001b[0m\u001b[A\n",
      "\u001b[36mTraining\u001b[0m - Epochs: 001/001:   9%|▋       | 2816/32563 [00:02<00:20, 1467.26it/s]\u001b[0m\u001b[A"
     ]
    },
    {
     "name": "stdout",
     "output_type": "stream",
     "text": [
      "EncoderBlock torch.Size([128, 42, 128])\n",
      "EncoderBlock torch.Size([128, 42, 128])\n",
      "EncoderBlock torch.Size([128, 42, 128])\n"
     ]
    },
    {
     "name": "stderr",
     "output_type": "stream",
     "text": [
      "\n",
      "\u001b[36mTraining\u001b[0m - Epochs: 001/001:   9%|▋       | 2944/32563 [00:02<00:20, 1467.26it/s]\u001b[0m\u001b[A\n",
      "\u001b[36mTraining\u001b[0m - Epochs: 001/001:   9%|▊       | 3072/32563 [00:02<00:20, 1434.30it/s]\u001b[0m\u001b[A\n",
      "\u001b[36mTraining\u001b[0m - Epochs: 001/001:   9%|▊       | 3072/32563 [00:02<00:20, 1434.30it/s]\u001b[0m\u001b[A\n",
      "\u001b[36mTraining\u001b[0m - Epochs: 001/001:  10%|▊       | 3200/32563 [00:02<00:20, 1434.30it/s]\u001b[0m\u001b[A\n",
      "\u001b[36mTraining\u001b[0m - Epochs: 001/001:  10%|▊       | 3328/32563 [00:02<00:20, 1436.55it/s]\u001b[0m\u001b[A"
     ]
    },
    {
     "name": "stdout",
     "output_type": "stream",
     "text": [
      "EncoderBlock torch.Size([128, 42, 128])\n",
      "EncoderBlock torch.Size([128, 42, 128])\n",
      "EncoderBlock torch.Size([128, 42, 128])\n"
     ]
    },
    {
     "name": "stderr",
     "output_type": "stream",
     "text": [
      "\n",
      "\u001b[36mTraining\u001b[0m - Epochs: 001/001:  10%|▊       | 3328/32563 [00:02<00:20, 1436.55it/s]\u001b[0m\u001b[A\n",
      "\u001b[36mTraining\u001b[0m - Epochs: 001/001:  11%|▊       | 3456/32563 [00:02<00:20, 1436.55it/s]\u001b[0m\u001b[A\n",
      "\u001b[36mTraining\u001b[0m - Epochs: 001/001:  11%|▉       | 3584/32563 [00:02<00:21, 1366.19it/s]\u001b[0m\u001b[A"
     ]
    },
    {
     "name": "stdout",
     "output_type": "stream",
     "text": [
      "EncoderBlock torch.Size([128, 42, 128])\n",
      "EncoderBlock torch.Size([128, 42, 128])\n"
     ]
    },
    {
     "name": "stderr",
     "output_type": "stream",
     "text": [
      "\n",
      "\u001b[36mTraining\u001b[0m - Epochs: 001/001:  11%|▉       | 3584/32563 [00:02<00:21, 1366.19it/s]\u001b[0m\u001b[A\n",
      "\u001b[36mTraining\u001b[0m - Epochs: 001/001:  11%|▉       | 3712/32563 [00:02<00:21, 1366.19it/s]\u001b[0m\u001b[A\n",
      "\u001b[36mTraining\u001b[0m - Epochs: 001/001:  12%|▉       | 3840/32563 [00:02<00:20, 1385.42it/s]\u001b[0m\u001b[A\n",
      "\u001b[36mTraining\u001b[0m - Epochs: 001/001:  12%|▉       | 3840/32563 [00:02<00:20, 1385.42it/s]\u001b[0m\u001b[A"
     ]
    },
    {
     "name": "stdout",
     "output_type": "stream",
     "text": [
      "EncoderBlock torch.Size([128, 42, 128])\n",
      "EncoderBlock torch.Size([128, 42, 128])\n",
      "EncoderBlock torch.Size([128, 42, 128])\n"
     ]
    },
    {
     "name": "stderr",
     "output_type": "stream",
     "text": [
      "\n",
      "\u001b[36mTraining\u001b[0m - Epochs: 001/001:  12%|▉       | 3968/32563 [00:02<00:20, 1385.42it/s]\u001b[0m\u001b[A\n",
      "\u001b[36mTraining\u001b[0m - Epochs: 001/001:  13%|█       | 4096/32563 [00:02<00:20, 1398.21it/s]\u001b[0m\u001b[A\n",
      "\u001b[36mTraining\u001b[0m - Epochs: 001/001:  13%|█       | 4096/32563 [00:02<00:20, 1398.21it/s]\u001b[0m\u001b[A\n",
      "\u001b[36mTraining\u001b[0m - Epochs: 001/001:  13%|█       | 4224/32563 [00:03<00:20, 1398.21it/s]\u001b[0m\u001b[A\n",
      "\u001b[36mTraining\u001b[0m - Epochs: 001/001:  13%|█       | 4352/32563 [00:03<00:20, 1410.17it/s]\u001b[0m\u001b[A"
     ]
    },
    {
     "name": "stdout",
     "output_type": "stream",
     "text": [
      "EncoderBlock torch.Size([128, 42, 128])\n",
      "EncoderBlock torch.Size([128, 42, 128])\n",
      "EncoderBlock torch.Size([128, 42, 128])\n"
     ]
    },
    {
     "name": "stderr",
     "output_type": "stream",
     "text": [
      "\n",
      "\u001b[36mTraining\u001b[0m - Epochs: 001/001:  13%|█       | 4352/32563 [00:03<00:20, 1410.17it/s]\u001b[0m\u001b[A\n",
      "\u001b[36mTraining\u001b[0m - Epochs: 001/001:  14%|█       | 4480/32563 [00:03<00:19, 1410.17it/s]\u001b[0m\u001b[A\n",
      "\u001b[36mTraining\u001b[0m - Epochs: 001/001:  14%|█▏      | 4608/32563 [00:03<00:19, 1403.16it/s]\u001b[0m\u001b[A\n",
      "\u001b[36mTraining\u001b[0m - Epochs: 001/001:  14%|█▏      | 4608/32563 [00:03<00:19, 1403.16it/s]\u001b[0m\u001b[A"
     ]
    },
    {
     "name": "stdout",
     "output_type": "stream",
     "text": [
      "EncoderBlock torch.Size([128, 42, 128])\n",
      "EncoderBlock torch.Size([128, 42, 128])\n",
      "EncoderBlock torch.Size([128, 42, 128])\n"
     ]
    },
    {
     "name": "stderr",
     "output_type": "stream",
     "text": [
      "\n",
      "\u001b[36mTraining\u001b[0m - Epochs: 001/001:  15%|█▏      | 4736/32563 [00:03<00:19, 1403.16it/s]\u001b[0m\u001b[A\n",
      "\u001b[36mTraining\u001b[0m - Epochs: 001/001:  15%|█▏      | 4864/32563 [00:03<00:19, 1406.19it/s]\u001b[0m\u001b[A\n",
      "\u001b[36mTraining\u001b[0m - Epochs: 001/001:  15%|█▏      | 4864/32563 [00:03<00:19, 1406.19it/s]\u001b[0m\u001b[A\n",
      "\u001b[36mTraining\u001b[0m - Epochs: 001/001:  15%|█▏      | 4992/32563 [00:03<00:19, 1406.19it/s]\u001b[0m\u001b[A\n",
      "\u001b[36mTraining\u001b[0m - Epochs: 001/001:  16%|█▎      | 5120/32563 [00:03<00:19, 1404.75it/s]\u001b[0m\u001b[A"
     ]
    },
    {
     "name": "stdout",
     "output_type": "stream",
     "text": [
      "EncoderBlock torch.Size([128, 42, 128])\n",
      "EncoderBlock torch.Size([128, 42, 128])\n",
      "EncoderBlock torch.Size([128, 42, 128])\n"
     ]
    },
    {
     "name": "stderr",
     "output_type": "stream",
     "text": [
      "\n",
      "\u001b[36mTraining\u001b[0m - Epochs: 001/001:  16%|█▎      | 5120/32563 [00:03<00:19, 1404.75it/s]\u001b[0m\u001b[A\n",
      "\u001b[36mTraining\u001b[0m - Epochs: 001/001:  16%|█▎      | 5248/32563 [00:03<00:19, 1404.75it/s]\u001b[0m\u001b[A\n",
      "\u001b[36mTraining\u001b[0m - Epochs: 001/001:  17%|█▎      | 5376/32563 [00:03<00:21, 1242.52it/s]\u001b[0m\u001b[A\n",
      "\u001b[36mTraining\u001b[0m - Epochs: 001/001:  17%|█▎      | 5376/32563 [00:03<00:21, 1242.52it/s]\u001b[0m\u001b[A"
     ]
    },
    {
     "name": "stdout",
     "output_type": "stream",
     "text": [
      "EncoderBlock torch.Size([128, 42, 128])\n",
      "EncoderBlock torch.Size([128, 42, 128])\n",
      "EncoderBlock torch.Size([128, 42, 128])\n"
     ]
    },
    {
     "name": "stderr",
     "output_type": "stream",
     "text": [
      "\n",
      "\u001b[36mTraining\u001b[0m - Epochs: 001/001:  17%|█▎      | 5504/32563 [00:04<00:21, 1242.52it/s]\u001b[0m\u001b[A\n",
      "\u001b[36mTraining\u001b[0m - Epochs: 001/001:  17%|█▍      | 5632/32563 [00:04<00:21, 1274.19it/s]\u001b[0m\u001b[A\n",
      "\u001b[36mTraining\u001b[0m - Epochs: 001/001:  17%|█▍      | 5632/32563 [00:04<00:21, 1274.19it/s]\u001b[0m\u001b[A\n",
      "\u001b[36mTraining\u001b[0m - Epochs: 001/001:  18%|█▍      | 5760/32563 [00:04<00:21, 1274.19it/s]\u001b[0m\u001b[A\n",
      "\u001b[36mTraining\u001b[0m - Epochs: 001/001:  18%|█▍      | 5888/32563 [00:04<00:20, 1308.87it/s]\u001b[0m\u001b[A"
     ]
    },
    {
     "name": "stdout",
     "output_type": "stream",
     "text": [
      "EncoderBlock torch.Size([128, 42, 128])\n",
      "EncoderBlock torch.Size([128, 42, 128])\n",
      "EncoderBlock torch.Size([128, 42, 128])\n"
     ]
    },
    {
     "name": "stderr",
     "output_type": "stream",
     "text": [
      "\n",
      "\u001b[36mTraining\u001b[0m - Epochs: 001/001:  18%|█▍      | 5888/32563 [00:04<00:20, 1308.87it/s]\u001b[0m\u001b[A\n",
      "\u001b[36mTraining\u001b[0m - Epochs: 001/001:  18%|█▍      | 6016/32563 [00:04<00:20, 1308.87it/s]\u001b[0m\u001b[A\n",
      "\u001b[36mTraining\u001b[0m - Epochs: 001/001:  19%|█▌      | 6144/32563 [00:04<00:20, 1298.35it/s]\u001b[0m\u001b[A\n",
      "\u001b[36mTraining\u001b[0m - Epochs: 001/001:  19%|█▌      | 6144/32563 [00:04<00:20, 1298.35it/s]\u001b[0m\u001b[A"
     ]
    },
    {
     "name": "stdout",
     "output_type": "stream",
     "text": [
      "EncoderBlock torch.Size([128, 42, 128])\n",
      "EncoderBlock torch.Size([128, 42, 128])\n",
      "EncoderBlock torch.Size([128, 42, 128])\n"
     ]
    },
    {
     "name": "stderr",
     "output_type": "stream",
     "text": [
      "\n",
      "\u001b[36mTraining\u001b[0m - Epochs: 001/001:  19%|█▌      | 6272/32563 [00:04<00:20, 1298.35it/s]\u001b[0m\u001b[A\n",
      "\u001b[36mTraining\u001b[0m - Epochs: 001/001:  20%|█▌      | 6400/32563 [00:04<00:19, 1321.35it/s]\u001b[0m\u001b[A\n",
      "\u001b[36mTraining\u001b[0m - Epochs: 001/001:  20%|█▌      | 6400/32563 [00:04<00:19, 1321.35it/s]\u001b[0m\u001b[A\n",
      "\u001b[36mTraining\u001b[0m - Epochs: 001/001:  20%|█▌      | 6528/32563 [00:04<00:19, 1321.35it/s]\u001b[0m\u001b[A\n",
      "\u001b[36mTraining\u001b[0m - Epochs: 001/001:  20%|█▋      | 6656/32563 [00:04<00:19, 1339.48it/s]\u001b[0m\u001b[A"
     ]
    },
    {
     "name": "stdout",
     "output_type": "stream",
     "text": [
      "EncoderBlock torch.Size([128, 42, 128])\n",
      "EncoderBlock torch.Size([128, 42, 128])\n",
      "EncoderBlock torch.Size([128, 42, 128])\n"
     ]
    },
    {
     "name": "stderr",
     "output_type": "stream",
     "text": [
      "\n",
      "\u001b[36mTraining\u001b[0m - Epochs: 001/001:  20%|█▋      | 6656/32563 [00:04<00:19, 1339.48it/s]\u001b[0m\u001b[A\n",
      "\u001b[36mTraining\u001b[0m - Epochs: 001/001:  21%|█▋      | 6784/32563 [00:04<00:19, 1339.48it/s]\u001b[0m\u001b[A\n",
      "\u001b[36mTraining\u001b[0m - Epochs: 001/001:  21%|█▋      | 6912/32563 [00:04<00:19, 1322.78it/s]\u001b[0m\u001b[A\n",
      "\u001b[36mTraining\u001b[0m - Epochs: 001/001:  21%|█▋      | 6912/32563 [00:05<00:19, 1322.78it/s]\u001b[0m\u001b[A"
     ]
    },
    {
     "name": "stdout",
     "output_type": "stream",
     "text": [
      "EncoderBlock torch.Size([128, 42, 128])\n",
      "EncoderBlock torch.Size([128, 42, 128])\n",
      "EncoderBlock torch.Size([128, 42, 128])\n"
     ]
    },
    {
     "name": "stderr",
     "output_type": "stream",
     "text": [
      "\n",
      "\u001b[36mTraining\u001b[0m - Epochs: 001/001:  22%|█▋      | 7040/32563 [00:05<00:19, 1322.78it/s]\u001b[0m\u001b[A\n",
      "\u001b[36mTraining\u001b[0m - Epochs: 001/001:  22%|█▊      | 7168/32563 [00:05<00:19, 1314.86it/s]\u001b[0m\u001b[A\n",
      "\u001b[36mTraining\u001b[0m - Epochs: 001/001:  22%|█▊      | 7168/32563 [00:05<00:19, 1314.86it/s]\u001b[0m\u001b[A\n",
      "\u001b[36mTraining\u001b[0m - Epochs: 001/001:  22%|█▊      | 7296/32563 [00:05<00:19, 1314.86it/s]\u001b[0m\u001b[A\n",
      "\u001b[36mTraining\u001b[0m - Epochs: 001/001:  23%|█▊      | 7424/32563 [00:05<00:18, 1356.83it/s]\u001b[0m\u001b[A"
     ]
    },
    {
     "name": "stdout",
     "output_type": "stream",
     "text": [
      "EncoderBlock torch.Size([128, 42, 128])\n",
      "EncoderBlock torch.Size([128, 42, 128])\n",
      "EncoderBlock torch.Size([128, 42, 128])\n"
     ]
    },
    {
     "name": "stderr",
     "output_type": "stream",
     "text": [
      "\n",
      "\u001b[36mTraining\u001b[0m - Epochs: 001/001:  23%|█▊      | 7424/32563 [00:05<00:18, 1356.83it/s]\u001b[0m\u001b[A\n",
      "\u001b[36mTraining\u001b[0m - Epochs: 001/001:  23%|█▊      | 7552/32563 [00:05<00:18, 1356.83it/s]\u001b[0m\u001b[A\n",
      "\u001b[36mTraining\u001b[0m - Epochs: 001/001:  24%|█▉      | 7680/32563 [00:05<00:18, 1318.70it/s]\u001b[0m\u001b[A"
     ]
    },
    {
     "name": "stdout",
     "output_type": "stream",
     "text": [
      "EncoderBlock torch.Size([128, 42, 128])\n",
      "EncoderBlock torch.Size([128, 42, 128])\n"
     ]
    },
    {
     "name": "stderr",
     "output_type": "stream",
     "text": [
      "\n",
      "\u001b[36mTraining\u001b[0m - Epochs: 001/001:  24%|█▉      | 7680/32563 [00:05<00:18, 1318.70it/s]\u001b[0m\u001b[A\n",
      "\u001b[36mTraining\u001b[0m - Epochs: 001/001:  24%|█▉      | 7808/32563 [00:05<00:18, 1318.70it/s]\u001b[0m\u001b[A\n",
      "\u001b[36mTraining\u001b[0m - Epochs: 001/001:  24%|█▉      | 7936/32563 [00:05<00:19, 1264.72it/s]\u001b[0m\u001b[A"
     ]
    },
    {
     "name": "stdout",
     "output_type": "stream",
     "text": [
      "EncoderBlock torch.Size([128, 42, 128])\n",
      "EncoderBlock torch.Size([128, 42, 128])\n"
     ]
    },
    {
     "name": "stderr",
     "output_type": "stream",
     "text": [
      "\n",
      "\u001b[36mTraining\u001b[0m - Epochs: 001/001:  24%|█▉      | 7936/32563 [00:05<00:19, 1264.72it/s]\u001b[0m\u001b[A\n",
      "\u001b[36mTraining\u001b[0m - Epochs: 001/001:  25%|█▉      | 8064/32563 [00:05<00:19, 1229.55it/s]\u001b[0m\u001b[A\n",
      "\u001b[36mTraining\u001b[0m - Epochs: 001/001:  25%|█▉      | 8064/32563 [00:06<00:19, 1229.55it/s]\u001b[0m\u001b[A\n",
      "\u001b[36mTraining\u001b[0m - Epochs: 001/001:  25%|██      | 8192/32563 [00:06<00:20, 1201.16it/s]\u001b[0m\u001b[A"
     ]
    },
    {
     "name": "stdout",
     "output_type": "stream",
     "text": [
      "EncoderBlock torch.Size([128, 42, 128])\n",
      "EncoderBlock torch.Size([128, 42, 128])\n"
     ]
    },
    {
     "name": "stderr",
     "output_type": "stream",
     "text": [
      "\n",
      "\u001b[36mTraining\u001b[0m - Epochs: 001/001:  25%|██      | 8192/32563 [00:06<00:20, 1201.16it/s]\u001b[0m\u001b[A\n",
      "\u001b[36mTraining\u001b[0m - Epochs: 001/001:  26%|██      | 8320/32563 [00:06<00:20, 1180.63it/s]\u001b[0m\u001b[A\n",
      "\u001b[36mTraining\u001b[0m - Epochs: 001/001:  26%|██      | 8320/32563 [00:06<00:20, 1180.63it/s]\u001b[0m\u001b[A\n",
      "\u001b[36mTraining\u001b[0m - Epochs: 001/001:  26%|██      | 8448/32563 [00:06<00:21, 1138.37it/s]\u001b[0m\u001b[A"
     ]
    },
    {
     "name": "stdout",
     "output_type": "stream",
     "text": [
      "EncoderBlock torch.Size([128, 42, 128])\n",
      "EncoderBlock torch.Size([128, 42, 128])\n"
     ]
    },
    {
     "name": "stderr",
     "output_type": "stream",
     "text": [
      "\n",
      "\u001b[36mTraining\u001b[0m - Epochs: 001/001:  26%|██      | 8448/32563 [00:06<00:21, 1138.37it/s]\u001b[0m\u001b[A\n",
      "\u001b[36mTraining\u001b[0m - Epochs: 001/001:  26%|██      | 8576/32563 [00:06<00:21, 1121.53it/s]\u001b[0m\u001b[A\n",
      "\u001b[36mTraining\u001b[0m - Epochs: 001/001:  26%|██      | 8576/32563 [00:06<00:21, 1121.53it/s]\u001b[0m\u001b[A\n",
      "\u001b[36mTraining\u001b[0m - Epochs: 001/001:  27%|██▏     | 8704/32563 [00:06<00:21, 1112.94it/s]\u001b[0m\u001b[A"
     ]
    },
    {
     "name": "stdout",
     "output_type": "stream",
     "text": [
      "EncoderBlock torch.Size([128, 42, 128])\n",
      "EncoderBlock torch.Size([128, 42, 128])\n"
     ]
    },
    {
     "name": "stderr",
     "output_type": "stream",
     "text": [
      "\n",
      "\u001b[36mTraining\u001b[0m - Epochs: 001/001:  27%|██▏     | 8704/32563 [00:06<00:21, 1112.94it/s]\u001b[0m\u001b[A\n",
      "\u001b[36mTraining\u001b[0m - Epochs: 001/001:  27%|██▏     | 8832/32563 [00:06<00:21, 1105.75it/s]\u001b[0m\u001b[A\n",
      "\u001b[36mTraining\u001b[0m - Epochs: 001/001:  27%|██▏     | 8832/32563 [00:06<00:21, 1105.75it/s]\u001b[0m\u001b[A\n",
      "\u001b[36mTraining\u001b[0m - Epochs: 001/001:  28%|██▏     | 8960/32563 [00:06<00:20, 1126.83it/s]\u001b[0m\u001b[A"
     ]
    },
    {
     "name": "stdout",
     "output_type": "stream",
     "text": [
      "EncoderBlock torch.Size([128, 42, 128])\n",
      "EncoderBlock torch.Size([128, 42, 128])\n"
     ]
    },
    {
     "name": "stderr",
     "output_type": "stream",
     "text": [
      "\n",
      "\u001b[36mTraining\u001b[0m - Epochs: 001/001:  28%|██▏     | 8960/32563 [00:06<00:20, 1126.83it/s]\u001b[0m\u001b[A\n",
      "\u001b[36mTraining\u001b[0m - Epochs: 001/001:  28%|██▏     | 9088/32563 [00:06<00:20, 1155.27it/s]\u001b[0m\u001b[A\n",
      "\u001b[36mTraining\u001b[0m - Epochs: 001/001:  28%|██▏     | 9088/32563 [00:06<00:20, 1155.27it/s]\u001b[0m\u001b[A\n",
      "\u001b[36mTraining\u001b[0m - Epochs: 001/001:  28%|██▎     | 9216/32563 [00:06<00:20, 1166.44it/s]\u001b[0m\u001b[A"
     ]
    },
    {
     "name": "stdout",
     "output_type": "stream",
     "text": [
      "EncoderBlock torch.Size([128, 42, 128])\n",
      "EncoderBlock torch.Size([128, 42, 128])\n"
     ]
    },
    {
     "name": "stderr",
     "output_type": "stream",
     "text": [
      "\n",
      "\u001b[36mTraining\u001b[0m - Epochs: 001/001:  28%|██▎     | 9216/32563 [00:07<00:20, 1166.44it/s]\u001b[0m\u001b[A\n",
      "\u001b[36mTraining\u001b[0m - Epochs: 001/001:  29%|██▎     | 9344/32563 [00:07<00:19, 1162.34it/s]\u001b[0m\u001b[A\n",
      "\u001b[36mTraining\u001b[0m - Epochs: 001/001:  29%|██▎     | 9344/32563 [00:07<00:19, 1162.34it/s]\u001b[0m\u001b[A\n",
      "\u001b[36mTraining\u001b[0m - Epochs: 001/001:  29%|██▎     | 9472/32563 [00:07<00:20, 1138.60it/s]\u001b[0m\u001b[A"
     ]
    },
    {
     "name": "stdout",
     "output_type": "stream",
     "text": [
      "EncoderBlock torch.Size([128, 42, 128])\n",
      "EncoderBlock torch.Size([128, 42, 128])\n"
     ]
    },
    {
     "name": "stderr",
     "output_type": "stream",
     "text": [
      "\n",
      "\u001b[36mTraining\u001b[0m - Epochs: 001/001:  29%|██▎     | 9472/32563 [00:07<00:20, 1138.60it/s]\u001b[0m\u001b[A\n",
      "\u001b[36mTraining\u001b[0m - Epochs: 001/001:  29%|██▎     | 9600/32563 [00:07<00:19, 1165.06it/s]\u001b[0m\u001b[A\n",
      "\u001b[36mTraining\u001b[0m - Epochs: 001/001:  29%|██▎     | 9600/32563 [00:07<00:19, 1165.06it/s]\u001b[0m\u001b[A\n",
      "\u001b[36mTraining\u001b[0m - Epochs: 001/001:  30%|██▍     | 9728/32563 [00:07<00:19, 1165.06it/s]\u001b[0m\u001b[A\n",
      "\u001b[36mTraining\u001b[0m - Epochs: 001/001:  30%|██▍     | 9856/32563 [00:07<00:17, 1275.32it/s]\u001b[0m\u001b[A"
     ]
    },
    {
     "name": "stdout",
     "output_type": "stream",
     "text": [
      "EncoderBlock torch.Size([128, 42, 128])\n",
      "EncoderBlock torch.Size([128, 42, 128])\n",
      "EncoderBlock torch.Size([128, 42, 128])\n"
     ]
    },
    {
     "name": "stderr",
     "output_type": "stream",
     "text": [
      "\n",
      "\u001b[36mTraining\u001b[0m - Epochs: 001/001:  30%|██▍     | 9856/32563 [00:07<00:17, 1275.32it/s]\u001b[0m\u001b[A\n",
      "\u001b[36mTraining\u001b[0m - Epochs: 001/001:  31%|██▍     | 9984/32563 [00:07<00:17, 1275.32it/s]\u001b[0m\u001b[A\n",
      "\u001b[36mTraining\u001b[0m - Epochs: 001/001:  31%|██▏    | 10112/32563 [00:07<00:16, 1322.06it/s]\u001b[0m\u001b[A\n",
      "\u001b[36mTraining\u001b[0m - Epochs: 001/001:  31%|██▏    | 10112/32563 [00:07<00:16, 1322.06it/s]\u001b[0m\u001b[A"
     ]
    },
    {
     "name": "stdout",
     "output_type": "stream",
     "text": [
      "EncoderBlock torch.Size([128, 42, 128])\n",
      "EncoderBlock torch.Size([128, 42, 128])\n",
      "EncoderBlock torch.Size([128, 42, 128])\n"
     ]
    },
    {
     "name": "stderr",
     "output_type": "stream",
     "text": [
      "\n",
      "\u001b[36mTraining\u001b[0m - Epochs: 001/001:  31%|██▏    | 10240/32563 [00:07<00:16, 1322.06it/s]\u001b[0m\u001b[A\n",
      "\u001b[36mTraining\u001b[0m - Epochs: 001/001:  32%|██▏    | 10368/32563 [00:07<00:16, 1339.02it/s]\u001b[0m\u001b[A\n",
      "\u001b[36mTraining\u001b[0m - Epochs: 001/001:  32%|██▏    | 10368/32563 [00:07<00:16, 1339.02it/s]\u001b[0m\u001b[A\n",
      "\u001b[36mTraining\u001b[0m - Epochs: 001/001:  32%|██▎    | 10496/32563 [00:07<00:16, 1339.02it/s]\u001b[0m\u001b[A\n",
      "\u001b[36mTraining\u001b[0m - Epochs: 001/001:  33%|██▎    | 10624/32563 [00:07<00:16, 1368.84it/s]\u001b[0m\u001b[A"
     ]
    },
    {
     "name": "stdout",
     "output_type": "stream",
     "text": [
      "EncoderBlock torch.Size([128, 42, 128])\n",
      "EncoderBlock torch.Size([128, 42, 128])\n",
      "EncoderBlock torch.Size([128, 42, 128])\n"
     ]
    },
    {
     "name": "stderr",
     "output_type": "stream",
     "text": [
      "\n",
      "\u001b[36mTraining\u001b[0m - Epochs: 001/001:  33%|██▎    | 10624/32563 [00:08<00:16, 1368.84it/s]\u001b[0m\u001b[A\n",
      "\u001b[36mTraining\u001b[0m - Epochs: 001/001:  33%|██▎    | 10752/32563 [00:08<00:15, 1368.84it/s]\u001b[0m\u001b[A\n",
      "\u001b[36mTraining\u001b[0m - Epochs: 001/001:  33%|██▎    | 10880/32563 [00:08<00:15, 1411.29it/s]\u001b[0m\u001b[A\n",
      "\u001b[36mTraining\u001b[0m - Epochs: 001/001:  33%|██▎    | 10880/32563 [00:08<00:15, 1411.29it/s]\u001b[0m\u001b[A"
     ]
    },
    {
     "name": "stdout",
     "output_type": "stream",
     "text": [
      "EncoderBlock torch.Size([128, 42, 128])\n",
      "EncoderBlock torch.Size([128, 42, 128])\n",
      "EncoderBlock torch.Size([128, 42, 128])\n"
     ]
    },
    {
     "name": "stderr",
     "output_type": "stream",
     "text": [
      "\u001b[36mTraining\u001b[0m - Epochs: 001/001:  33%|██▎    | 10880/32563 [00:19<00:14, 1459.51it/s]\u001b[0m\n",
      "\u001b[36mTraining\u001b[0m - Epochs: 001/001:  34%|██▎    | 11008/32563 [00:08<00:15, 1411.29it/s]\u001b[0m\u001b[A\n",
      "\u001b[36mTraining\u001b[0m - Epochs: 001/001:  34%|██▍    | 11136/32563 [00:08<00:15, 1421.43it/s]\u001b[0m\u001b[A\n",
      "\u001b[36mTraining\u001b[0m - Epochs: 001/001:  34%|██▍    | 11136/32563 [00:08<00:15, 1421.43it/s]\u001b[0m\u001b[A\n",
      "\u001b[36mTraining\u001b[0m - Epochs: 001/001:  35%|██▍    | 11264/32563 [00:08<00:14, 1421.43it/s]\u001b[0m\u001b[A\n",
      "\u001b[36mTraining\u001b[0m - Epochs: 001/001:  35%|██▍    | 11392/32563 [00:08<00:15, 1383.03it/s]\u001b[0m\u001b[A"
     ]
    },
    {
     "name": "stdout",
     "output_type": "stream",
     "text": [
      "EncoderBlock torch.Size([128, 42, 128])\n",
      "EncoderBlock torch.Size([128, 42, 128])\n",
      "EncoderBlock torch.Size([128, 42, 128])\n"
     ]
    },
    {
     "name": "stderr",
     "output_type": "stream",
     "text": [
      "\n",
      "\u001b[36mTraining\u001b[0m - Epochs: 001/001:  35%|██▍    | 11392/32563 [00:08<00:15, 1383.03it/s]\u001b[0m\u001b[A\n",
      "\u001b[36mTraining\u001b[0m - Epochs: 001/001:  35%|██▍    | 11520/32563 [00:08<00:15, 1383.03it/s]\u001b[0m\u001b[A\n",
      "\u001b[36mTraining\u001b[0m - Epochs: 001/001:  36%|██▌    | 11648/32563 [00:08<00:14, 1401.83it/s]\u001b[0m\u001b[A\n",
      "\u001b[36mTraining\u001b[0m - Epochs: 001/001:  36%|██▌    | 11648/32563 [00:08<00:14, 1401.83it/s]\u001b[0m\u001b[A"
     ]
    },
    {
     "name": "stdout",
     "output_type": "stream",
     "text": [
      "EncoderBlock torch.Size([128, 42, 128])\n",
      "EncoderBlock torch.Size([128, 42, 128])\n",
      "EncoderBlock torch.Size([128, 42, 128])\n"
     ]
    },
    {
     "name": "stderr",
     "output_type": "stream",
     "text": [
      "\n",
      "\u001b[36mTraining\u001b[0m - Epochs: 001/001:  36%|██▌    | 11776/32563 [00:08<00:14, 1401.83it/s]\u001b[0m\u001b[A\n",
      "\u001b[36mTraining\u001b[0m - Epochs: 001/001:  37%|██▌    | 11904/32563 [00:08<00:14, 1412.53it/s]\u001b[0m\u001b[A\n",
      "\u001b[36mTraining\u001b[0m - Epochs: 001/001:  37%|██▌    | 11904/32563 [00:08<00:14, 1412.53it/s]\u001b[0m\u001b[A\n",
      "\u001b[36mTraining\u001b[0m - Epochs: 001/001:  37%|██▌    | 12032/32563 [00:09<00:14, 1412.53it/s]\u001b[0m\u001b[A\n",
      "\u001b[36mTraining\u001b[0m - Epochs: 001/001:  37%|██▌    | 12160/32563 [00:09<00:14, 1435.78it/s]\u001b[0m\u001b[A"
     ]
    },
    {
     "name": "stdout",
     "output_type": "stream",
     "text": [
      "EncoderBlock torch.Size([128, 42, 128])\n",
      "EncoderBlock torch.Size([128, 42, 128])\n",
      "EncoderBlock torch.Size([128, 42, 128])\n"
     ]
    },
    {
     "name": "stderr",
     "output_type": "stream",
     "text": [
      "\n",
      "\u001b[36mTraining\u001b[0m - Epochs: 001/001:  37%|██▌    | 12160/32563 [00:09<00:14, 1435.78it/s]\u001b[0m\u001b[A\n",
      "\u001b[36mTraining\u001b[0m - Epochs: 001/001:  38%|██▋    | 12288/32563 [00:09<00:14, 1435.78it/s]\u001b[0m\u001b[A\n",
      "\u001b[36mTraining\u001b[0m - Epochs: 001/001:  38%|██▋    | 12416/32563 [00:09<00:13, 1447.93it/s]\u001b[0m\u001b[A\n",
      "\u001b[36mTraining\u001b[0m - Epochs: 001/001:  38%|██▋    | 12416/32563 [00:09<00:13, 1447.93it/s]\u001b[0m\u001b[A"
     ]
    },
    {
     "name": "stdout",
     "output_type": "stream",
     "text": [
      "EncoderBlock torch.Size([128, 42, 128])\n",
      "EncoderBlock torch.Size([128, 42, 128])\n",
      "EncoderBlock torch.Size([128, 42, 128])\n"
     ]
    },
    {
     "name": "stderr",
     "output_type": "stream",
     "text": [
      "\n",
      "\u001b[36mTraining\u001b[0m - Epochs: 001/001:  39%|██▋    | 12544/32563 [00:09<00:13, 1447.93it/s]\u001b[0m\u001b[A\n",
      "\u001b[36mTraining\u001b[0m - Epochs: 001/001:  39%|██▋    | 12672/32563 [00:09<00:13, 1455.98it/s]\u001b[0m\u001b[A\n",
      "\u001b[36mTraining\u001b[0m - Epochs: 001/001:  39%|██▋    | 12672/32563 [00:09<00:13, 1455.98it/s]\u001b[0m\u001b[A\n",
      "\u001b[36mTraining\u001b[0m - Epochs: 001/001:  39%|██▊    | 12800/32563 [00:09<00:13, 1455.98it/s]\u001b[0m\u001b[A\n",
      "\u001b[36mTraining\u001b[0m - Epochs: 001/001:  40%|██▊    | 12928/32563 [00:09<00:13, 1479.67it/s]\u001b[0m\u001b[A"
     ]
    },
    {
     "name": "stdout",
     "output_type": "stream",
     "text": [
      "EncoderBlock torch.Size([128, 42, 128])\n",
      "EncoderBlock torch.Size([128, 42, 128])\n",
      "EncoderBlock torch.Size([128, 42, 128])\n"
     ]
    },
    {
     "name": "stderr",
     "output_type": "stream",
     "text": [
      "\n",
      "\u001b[36mTraining\u001b[0m - Epochs: 001/001:  40%|██▊    | 12928/32563 [00:09<00:13, 1479.67it/s]\u001b[0m\u001b[A\n",
      "\u001b[36mTraining\u001b[0m - Epochs: 001/001:  40%|██▊    | 13056/32563 [00:09<00:13, 1479.67it/s]\u001b[0m\u001b[A\n",
      "\u001b[36mTraining\u001b[0m - Epochs: 001/001:  40%|██▊    | 13184/32563 [00:09<00:13, 1468.15it/s]\u001b[0m\u001b[A\n",
      "\u001b[36mTraining\u001b[0m - Epochs: 001/001:  40%|██▊    | 13184/32563 [00:09<00:13, 1468.15it/s]\u001b[0m\u001b[A"
     ]
    },
    {
     "name": "stdout",
     "output_type": "stream",
     "text": [
      "EncoderBlock torch.Size([128, 42, 128])\n",
      "EncoderBlock torch.Size([128, 42, 128])\n",
      "EncoderBlock torch.Size([128, 42, 128])\n"
     ]
    },
    {
     "name": "stderr",
     "output_type": "stream",
     "text": [
      "\n",
      "\u001b[36mTraining\u001b[0m - Epochs: 001/001:  41%|██▊    | 13312/32563 [00:09<00:13, 1468.15it/s]\u001b[0m\u001b[A\n",
      "\u001b[36mTraining\u001b[0m - Epochs: 001/001:  41%|██▉    | 13440/32563 [00:09<00:13, 1456.61it/s]\u001b[0m\u001b[A\n",
      "\u001b[36mTraining\u001b[0m - Epochs: 001/001:  41%|██▉    | 13440/32563 [00:10<00:13, 1456.61it/s]\u001b[0m\u001b[A\n",
      "\u001b[36mTraining\u001b[0m - Epochs: 001/001:  42%|██▉    | 13568/32563 [00:10<00:13, 1456.61it/s]\u001b[0m\u001b[A\n",
      "\u001b[36mTraining\u001b[0m - Epochs: 001/001:  42%|██▉    | 13696/32563 [00:10<00:12, 1451.84it/s]\u001b[0m\u001b[A"
     ]
    },
    {
     "name": "stdout",
     "output_type": "stream",
     "text": [
      "EncoderBlock torch.Size([128, 42, 128])\n",
      "EncoderBlock torch.Size([128, 42, 128])\n",
      "EncoderBlock torch.Size([128, 42, 128])\n"
     ]
    },
    {
     "name": "stderr",
     "output_type": "stream",
     "text": [
      "\n",
      "\u001b[36mTraining\u001b[0m - Epochs: 001/001:  42%|██▉    | 13696/32563 [00:10<00:12, 1451.84it/s]\u001b[0m\u001b[A\n",
      "\u001b[36mTraining\u001b[0m - Epochs: 001/001:  42%|██▉    | 13824/32563 [00:10<00:12, 1451.84it/s]\u001b[0m\u001b[A\n",
      "\u001b[36mTraining\u001b[0m - Epochs: 001/001:  43%|██▉    | 13952/32563 [00:10<00:13, 1414.35it/s]\u001b[0m\u001b[A\n",
      "\u001b[36mTraining\u001b[0m - Epochs: 001/001:  43%|██▉    | 13952/32563 [00:10<00:13, 1414.35it/s]\u001b[0m\u001b[A"
     ]
    },
    {
     "name": "stdout",
     "output_type": "stream",
     "text": [
      "EncoderBlock torch.Size([128, 42, 128])\n",
      "EncoderBlock torch.Size([128, 42, 128])\n",
      "EncoderBlock torch.Size([128, 42, 128])\n"
     ]
    },
    {
     "name": "stderr",
     "output_type": "stream",
     "text": [
      "\n",
      "\u001b[36mTraining\u001b[0m - Epochs: 001/001:  43%|███    | 14080/32563 [00:10<00:13, 1414.35it/s]\u001b[0m\u001b[A\n",
      "\u001b[36mTraining\u001b[0m - Epochs: 001/001:  44%|███    | 14208/32563 [00:10<00:12, 1427.93it/s]\u001b[0m\u001b[A\n",
      "\u001b[36mTraining\u001b[0m - Epochs: 001/001:  44%|███    | 14208/32563 [00:10<00:12, 1427.93it/s]\u001b[0m\u001b[A\n",
      "\u001b[36mTraining\u001b[0m - Epochs: 001/001:  44%|███    | 14336/32563 [00:10<00:12, 1427.93it/s]\u001b[0m\u001b[A\n",
      "\u001b[36mTraining\u001b[0m - Epochs: 001/001:  44%|███    | 14464/32563 [00:10<00:12, 1437.42it/s]\u001b[0m\u001b[A"
     ]
    },
    {
     "name": "stdout",
     "output_type": "stream",
     "text": [
      "EncoderBlock torch.Size([128, 42, 128])\n",
      "EncoderBlock torch.Size([128, 42, 128])\n",
      "EncoderBlock torch.Size([128, 42, 128])\n"
     ]
    },
    {
     "name": "stderr",
     "output_type": "stream",
     "text": [
      "\n",
      "\u001b[36mTraining\u001b[0m - Epochs: 001/001:  44%|███    | 14464/32563 [00:10<00:12, 1437.42it/s]\u001b[0m\u001b[A\n",
      "\u001b[36mTraining\u001b[0m - Epochs: 001/001:  45%|███▏   | 14592/32563 [00:10<00:12, 1437.42it/s]\u001b[0m\u001b[A\n",
      "\u001b[36mTraining\u001b[0m - Epochs: 001/001:  45%|███▏   | 14720/32563 [00:10<00:12, 1437.49it/s]\u001b[0m\u001b[A\n",
      "\u001b[36mTraining\u001b[0m - Epochs: 001/001:  45%|███▏   | 14720/32563 [00:10<00:12, 1437.49it/s]\u001b[0m\u001b[A"
     ]
    },
    {
     "name": "stdout",
     "output_type": "stream",
     "text": [
      "EncoderBlock torch.Size([128, 42, 128])\n",
      "EncoderBlock torch.Size([128, 42, 128])\n",
      "EncoderBlock torch.Size([128, 42, 128])\n"
     ]
    },
    {
     "name": "stderr",
     "output_type": "stream",
     "text": [
      "\n",
      "\u001b[36mTraining\u001b[0m - Epochs: 001/001:  46%|███▏   | 14848/32563 [00:11<00:12, 1437.49it/s]\u001b[0m\u001b[A\n",
      "\u001b[36mTraining\u001b[0m - Epochs: 001/001:  46%|███▏   | 14976/32563 [00:11<00:12, 1433.54it/s]\u001b[0m\u001b[A\n",
      "\u001b[36mTraining\u001b[0m - Epochs: 001/001:  46%|███▏   | 14976/32563 [00:11<00:12, 1433.54it/s]\u001b[0m\u001b[A\n",
      "\u001b[36mTraining\u001b[0m - Epochs: 001/001:  46%|███▏   | 15104/32563 [00:11<00:12, 1433.54it/s]\u001b[0m\u001b[A\n",
      "\u001b[36mTraining\u001b[0m - Epochs: 001/001:  47%|███▎   | 15232/32563 [00:11<00:12, 1430.32it/s]\u001b[0m\u001b[A"
     ]
    },
    {
     "name": "stdout",
     "output_type": "stream",
     "text": [
      "EncoderBlock torch.Size([128, 42, 128])\n",
      "EncoderBlock torch.Size([128, 42, 128])\n",
      "EncoderBlock torch.Size([128, 42, 128])\n"
     ]
    },
    {
     "name": "stderr",
     "output_type": "stream",
     "text": [
      "\n",
      "\u001b[36mTraining\u001b[0m - Epochs: 001/001:  47%|███▎   | 15232/32563 [00:11<00:12, 1430.32it/s]\u001b[0m\u001b[A\n",
      "\u001b[36mTraining\u001b[0m - Epochs: 001/001:  47%|███▎   | 15360/32563 [00:11<00:12, 1430.32it/s]\u001b[0m\u001b[A\n",
      "\u001b[36mTraining\u001b[0m - Epochs: 001/001:  48%|███▎   | 15488/32563 [00:11<00:11, 1429.24it/s]\u001b[0m\u001b[A\n",
      "\u001b[36mTraining\u001b[0m - Epochs: 001/001:  48%|███▎   | 15488/32563 [00:11<00:11, 1429.24it/s]\u001b[0m\u001b[A"
     ]
    },
    {
     "name": "stdout",
     "output_type": "stream",
     "text": [
      "EncoderBlock torch.Size([128, 42, 128])\n",
      "EncoderBlock torch.Size([128, 42, 128])\n",
      "EncoderBlock torch.Size([128, 42, 128])\n"
     ]
    },
    {
     "name": "stderr",
     "output_type": "stream",
     "text": [
      "\n",
      "\u001b[36mTraining\u001b[0m - Epochs: 001/001:  48%|███▎   | 15616/32563 [00:11<00:11, 1429.24it/s]\u001b[0m\u001b[A\n",
      "\u001b[36mTraining\u001b[0m - Epochs: 001/001:  48%|███▍   | 15744/32563 [00:11<00:11, 1431.95it/s]\u001b[0m\u001b[A\n",
      "\u001b[36mTraining\u001b[0m - Epochs: 001/001:  48%|███▍   | 15744/32563 [00:11<00:11, 1431.95it/s]\u001b[0m\u001b[A\n",
      "\u001b[36mTraining\u001b[0m - Epochs: 001/001:  49%|███▍   | 15872/32563 [00:11<00:11, 1431.95it/s]\u001b[0m\u001b[A\n",
      "\u001b[36mTraining\u001b[0m - Epochs: 001/001:  49%|███▍   | 16000/32563 [00:11<00:11, 1458.00it/s]\u001b[0m\u001b[A"
     ]
    },
    {
     "name": "stdout",
     "output_type": "stream",
     "text": [
      "EncoderBlock torch.Size([128, 42, 128])\n",
      "EncoderBlock torch.Size([128, 42, 128])\n",
      "EncoderBlock torch.Size([128, 42, 128])\n"
     ]
    },
    {
     "name": "stderr",
     "output_type": "stream",
     "text": [
      "\n",
      "\u001b[36mTraining\u001b[0m - Epochs: 001/001:  49%|███▍   | 16000/32563 [00:11<00:11, 1458.00it/s]\u001b[0m\u001b[A\n",
      "\u001b[36mTraining\u001b[0m - Epochs: 001/001:  50%|███▍   | 16128/32563 [00:11<00:11, 1458.00it/s]\u001b[0m\u001b[A\n",
      "\u001b[36mTraining\u001b[0m - Epochs: 001/001:  50%|███▍   | 16256/32563 [00:11<00:11, 1405.86it/s]\u001b[0m\u001b[A\n",
      "\u001b[36mTraining\u001b[0m - Epochs: 001/001:  50%|███▍   | 16256/32563 [00:11<00:11, 1405.86it/s]\u001b[0m\u001b[A"
     ]
    },
    {
     "name": "stdout",
     "output_type": "stream",
     "text": [
      "EncoderBlock torch.Size([128, 42, 128])\n",
      "EncoderBlock torch.Size([128, 42, 128])\n",
      "EncoderBlock torch.Size([128, 42, 128])\n"
     ]
    },
    {
     "name": "stderr",
     "output_type": "stream",
     "text": [
      "\n",
      "\u001b[36mTraining\u001b[0m - Epochs: 001/001:  50%|███▌   | 16384/32563 [00:12<00:11, 1405.86it/s]\u001b[0m\u001b[A\n",
      "\u001b[36mTraining\u001b[0m - Epochs: 001/001:  51%|███▌   | 16512/32563 [00:12<00:11, 1411.62it/s]\u001b[0m\u001b[A\n",
      "\u001b[36mTraining\u001b[0m - Epochs: 001/001:  51%|███▌   | 16512/32563 [00:12<00:11, 1411.62it/s]\u001b[0m\u001b[A\n",
      "\u001b[36mTraining\u001b[0m - Epochs: 001/001:  51%|███▌   | 16640/32563 [00:12<00:11, 1411.62it/s]\u001b[0m\u001b[A\n",
      "\u001b[36mTraining\u001b[0m - Epochs: 001/001:  51%|███▌   | 16768/32563 [00:12<00:10, 1437.01it/s]\u001b[0m\u001b[A"
     ]
    },
    {
     "name": "stdout",
     "output_type": "stream",
     "text": [
      "EncoderBlock torch.Size([128, 42, 128])\n",
      "EncoderBlock torch.Size([128, 42, 128])\n",
      "EncoderBlock torch.Size([128, 42, 128])\n"
     ]
    },
    {
     "name": "stderr",
     "output_type": "stream",
     "text": [
      "\n",
      "\u001b[36mTraining\u001b[0m - Epochs: 001/001:  51%|███▌   | 16768/32563 [00:12<00:10, 1437.01it/s]\u001b[0m\u001b[A\n",
      "\u001b[36mTraining\u001b[0m - Epochs: 001/001:  52%|███▋   | 16896/32563 [00:12<00:10, 1437.01it/s]\u001b[0m\u001b[A\n",
      "\u001b[36mTraining\u001b[0m - Epochs: 001/001:  52%|███▋   | 17024/32563 [00:12<00:11, 1402.00it/s]\u001b[0m\u001b[A\n",
      "\u001b[36mTraining\u001b[0m - Epochs: 001/001:  52%|███▋   | 17024/32563 [00:12<00:11, 1402.00it/s]\u001b[0m\u001b[A"
     ]
    },
    {
     "name": "stdout",
     "output_type": "stream",
     "text": [
      "EncoderBlock torch.Size([128, 42, 128])\n",
      "EncoderBlock torch.Size([128, 42, 128])\n",
      "EncoderBlock torch.Size([128, 42, 128])\n"
     ]
    },
    {
     "name": "stderr",
     "output_type": "stream",
     "text": [
      "\n",
      "\u001b[36mTraining\u001b[0m - Epochs: 001/001:  53%|███▋   | 17152/32563 [00:12<00:10, 1402.00it/s]\u001b[0m\u001b[A\n",
      "\u001b[36mTraining\u001b[0m - Epochs: 001/001:  53%|███▋   | 17280/32563 [00:12<00:11, 1339.09it/s]\u001b[0m\u001b[A\n",
      "\u001b[36mTraining\u001b[0m - Epochs: 001/001:  53%|███▋   | 17280/32563 [00:12<00:11, 1339.09it/s]\u001b[0m\u001b[A\n",
      "\u001b[36mTraining\u001b[0m - Epochs: 001/001:  53%|███▋   | 17408/32563 [00:12<00:11, 1339.09it/s]\u001b[0m\u001b[A\n",
      "\u001b[36mTraining\u001b[0m - Epochs: 001/001:  54%|███▊   | 17536/32563 [00:12<00:10, 1367.16it/s]\u001b[0m\u001b[A"
     ]
    },
    {
     "name": "stdout",
     "output_type": "stream",
     "text": [
      "EncoderBlock torch.Size([128, 42, 128])\n",
      "EncoderBlock torch.Size([128, 42, 128])\n",
      "EncoderBlock torch.Size([128, 42, 128])\n"
     ]
    },
    {
     "name": "stderr",
     "output_type": "stream",
     "text": [
      "\n",
      "\u001b[36mTraining\u001b[0m - Epochs: 001/001:  54%|███▊   | 17536/32563 [00:12<00:10, 1367.16it/s]\u001b[0m\u001b[A\n",
      "\u001b[36mTraining\u001b[0m - Epochs: 001/001:  54%|███▊   | 17664/32563 [00:13<00:10, 1367.16it/s]\u001b[0m\u001b[A\n",
      "\u001b[36mTraining\u001b[0m - Epochs: 001/001:  55%|███▊   | 17792/32563 [00:13<00:10, 1372.71it/s]\u001b[0m\u001b[A\n",
      "\u001b[36mTraining\u001b[0m - Epochs: 001/001:  55%|███▊   | 17792/32563 [00:13<00:10, 1372.71it/s]\u001b[0m\u001b[A"
     ]
    },
    {
     "name": "stdout",
     "output_type": "stream",
     "text": [
      "EncoderBlock torch.Size([128, 42, 128])\n",
      "EncoderBlock torch.Size([128, 42, 128])\n",
      "EncoderBlock torch.Size([128, 42, 128])\n"
     ]
    },
    {
     "name": "stderr",
     "output_type": "stream",
     "text": [
      "\n",
      "\u001b[36mTraining\u001b[0m - Epochs: 001/001:  55%|███▊   | 17920/32563 [00:13<00:10, 1372.71it/s]\u001b[0m\u001b[A\n",
      "\u001b[36mTraining\u001b[0m - Epochs: 001/001:  55%|███▉   | 18048/32563 [00:13<00:10, 1405.93it/s]\u001b[0m\u001b[A\n",
      "\u001b[36mTraining\u001b[0m - Epochs: 001/001:  55%|███▉   | 18048/32563 [00:13<00:10, 1405.93it/s]\u001b[0m\u001b[A\n",
      "\u001b[36mTraining\u001b[0m - Epochs: 001/001:  56%|███▉   | 18176/32563 [00:13<00:10, 1405.93it/s]\u001b[0m\u001b[A\n",
      "\u001b[36mTraining\u001b[0m - Epochs: 001/001:  56%|███▉   | 18304/32563 [00:13<00:09, 1433.90it/s]\u001b[0m\u001b[A"
     ]
    },
    {
     "name": "stdout",
     "output_type": "stream",
     "text": [
      "EncoderBlock torch.Size([128, 42, 128])\n",
      "EncoderBlock torch.Size([128, 42, 128])\n",
      "EncoderBlock torch.Size([128, 42, 128])\n"
     ]
    },
    {
     "name": "stderr",
     "output_type": "stream",
     "text": [
      "\n",
      "\u001b[36mTraining\u001b[0m - Epochs: 001/001:  56%|███▉   | 18304/32563 [00:13<00:09, 1433.90it/s]\u001b[0m\u001b[A\n",
      "\u001b[36mTraining\u001b[0m - Epochs: 001/001:  57%|███▉   | 18432/32563 [00:13<00:09, 1433.90it/s]\u001b[0m\u001b[A\n",
      "\u001b[36mTraining\u001b[0m - Epochs: 001/001:  57%|███▉   | 18560/32563 [00:13<00:09, 1427.11it/s]\u001b[0m\u001b[A\n",
      "\u001b[36mTraining\u001b[0m - Epochs: 001/001:  57%|███▉   | 18560/32563 [00:13<00:09, 1427.11it/s]\u001b[0m\u001b[A"
     ]
    },
    {
     "name": "stdout",
     "output_type": "stream",
     "text": [
      "EncoderBlock torch.Size([128, 42, 128])\n",
      "EncoderBlock torch.Size([128, 42, 128])\n",
      "EncoderBlock torch.Size([128, 42, 128])\n"
     ]
    },
    {
     "name": "stderr",
     "output_type": "stream",
     "text": [
      "\n",
      "\u001b[36mTraining\u001b[0m - Epochs: 001/001:  57%|████   | 18688/32563 [00:13<00:09, 1427.11it/s]\u001b[0m\u001b[A\n",
      "\u001b[36mTraining\u001b[0m - Epochs: 001/001:  58%|████   | 18816/32563 [00:13<00:09, 1436.36it/s]\u001b[0m\u001b[A\n",
      "\u001b[36mTraining\u001b[0m - Epochs: 001/001:  58%|████   | 18816/32563 [00:13<00:09, 1436.36it/s]\u001b[0m\u001b[A\n",
      "\u001b[36mTraining\u001b[0m - Epochs: 001/001:  58%|████   | 18944/32563 [00:13<00:09, 1436.36it/s]\u001b[0m\u001b[A\n",
      "\u001b[36mTraining\u001b[0m - Epochs: 001/001:  59%|████   | 19072/32563 [00:13<00:09, 1433.99it/s]\u001b[0m\u001b[A"
     ]
    },
    {
     "name": "stdout",
     "output_type": "stream",
     "text": [
      "EncoderBlock torch.Size([128, 42, 128])\n",
      "EncoderBlock torch.Size([128, 42, 128])\n",
      "EncoderBlock torch.Size([128, 42, 128])\n"
     ]
    },
    {
     "name": "stderr",
     "output_type": "stream",
     "text": [
      "\n",
      "\u001b[36mTraining\u001b[0m - Epochs: 001/001:  59%|████   | 19072/32563 [00:13<00:09, 1433.99it/s]\u001b[0m\u001b[A\n",
      "\u001b[36mTraining\u001b[0m - Epochs: 001/001:  59%|████▏  | 19200/32563 [00:14<00:09, 1433.99it/s]\u001b[0m\u001b[A\n",
      "\u001b[36mTraining\u001b[0m - Epochs: 001/001:  59%|████▏  | 19328/32563 [00:14<00:09, 1421.84it/s]\u001b[0m\u001b[A\n",
      "\u001b[36mTraining\u001b[0m - Epochs: 001/001:  59%|████▏  | 19328/32563 [00:14<00:09, 1421.84it/s]\u001b[0m\u001b[A"
     ]
    },
    {
     "name": "stdout",
     "output_type": "stream",
     "text": [
      "EncoderBlock torch.Size([128, 42, 128])\n",
      "EncoderBlock torch.Size([128, 42, 128])\n",
      "EncoderBlock torch.Size([128, 42, 128])\n"
     ]
    },
    {
     "name": "stderr",
     "output_type": "stream",
     "text": [
      "\n",
      "\u001b[36mTraining\u001b[0m - Epochs: 001/001:  60%|████▏  | 19456/32563 [00:14<00:09, 1421.84it/s]\u001b[0m\u001b[A\n",
      "\u001b[36mTraining\u001b[0m - Epochs: 001/001:  60%|████▏  | 19584/32563 [00:14<00:09, 1414.15it/s]\u001b[0m\u001b[A\n",
      "\u001b[36mTraining\u001b[0m - Epochs: 001/001:  60%|████▏  | 19584/32563 [00:14<00:09, 1414.15it/s]\u001b[0m\u001b[A\n",
      "\u001b[36mTraining\u001b[0m - Epochs: 001/001:  61%|████▏  | 19712/32563 [00:14<00:09, 1414.15it/s]\u001b[0m\u001b[A\n",
      "\u001b[36mTraining\u001b[0m - Epochs: 001/001:  61%|████▎  | 19840/32563 [00:14<00:08, 1423.71it/s]\u001b[0m\u001b[A"
     ]
    },
    {
     "name": "stdout",
     "output_type": "stream",
     "text": [
      "EncoderBlock torch.Size([128, 42, 128])\n",
      "EncoderBlock torch.Size([128, 42, 128])\n",
      "EncoderBlock torch.Size([128, 42, 128])\n"
     ]
    },
    {
     "name": "stderr",
     "output_type": "stream",
     "text": [
      "\n",
      "\u001b[36mTraining\u001b[0m - Epochs: 001/001:  61%|████▎  | 19840/32563 [00:14<00:08, 1423.71it/s]\u001b[0m\u001b[A\n",
      "\u001b[36mTraining\u001b[0m - Epochs: 001/001:  61%|████▎  | 19968/32563 [00:14<00:08, 1423.71it/s]\u001b[0m\u001b[A\n",
      "\u001b[36mTraining\u001b[0m - Epochs: 001/001:  62%|████▎  | 20096/32563 [00:14<00:08, 1442.70it/s]\u001b[0m\u001b[A\n",
      "\u001b[36mTraining\u001b[0m - Epochs: 001/001:  62%|████▎  | 20096/32563 [00:14<00:08, 1442.70it/s]\u001b[0m\u001b[A"
     ]
    },
    {
     "name": "stdout",
     "output_type": "stream",
     "text": [
      "EncoderBlock torch.Size([128, 42, 128])\n",
      "EncoderBlock torch.Size([128, 42, 128])\n",
      "EncoderBlock torch.Size([128, 42, 128])\n"
     ]
    },
    {
     "name": "stderr",
     "output_type": "stream",
     "text": [
      "\n",
      "\u001b[36mTraining\u001b[0m - Epochs: 001/001:  62%|████▎  | 20224/32563 [00:14<00:08, 1442.70it/s]\u001b[0m\u001b[A\n",
      "\u001b[36mTraining\u001b[0m - Epochs: 001/001:  63%|████▍  | 20352/32563 [00:14<00:08, 1466.43it/s]\u001b[0m\u001b[A\n",
      "\u001b[36mTraining\u001b[0m - Epochs: 001/001:  63%|████▍  | 20352/32563 [00:14<00:08, 1466.43it/s]\u001b[0m\u001b[A\n",
      "\u001b[36mTraining\u001b[0m - Epochs: 001/001:  63%|████▍  | 20480/32563 [00:14<00:08, 1466.43it/s]\u001b[0m\u001b[A\n",
      "\u001b[36mTraining\u001b[0m - Epochs: 001/001:  63%|████▍  | 20608/32563 [00:14<00:08, 1449.28it/s]\u001b[0m\u001b[A"
     ]
    },
    {
     "name": "stdout",
     "output_type": "stream",
     "text": [
      "EncoderBlock torch.Size([128, 42, 128])\n",
      "EncoderBlock torch.Size([128, 42, 128])\n",
      "EncoderBlock torch.Size([128, 42, 128])\n"
     ]
    },
    {
     "name": "stderr",
     "output_type": "stream",
     "text": [
      "\n",
      "\u001b[36mTraining\u001b[0m - Epochs: 001/001:  63%|████▍  | 20608/32563 [00:15<00:08, 1449.28it/s]\u001b[0m\u001b[A\n",
      "\u001b[36mTraining\u001b[0m - Epochs: 001/001:  64%|████▍  | 20736/32563 [00:15<00:08, 1449.28it/s]\u001b[0m\u001b[A\n",
      "\u001b[36mTraining\u001b[0m - Epochs: 001/001:  64%|████▍  | 20864/32563 [00:15<00:08, 1436.92it/s]\u001b[0m\u001b[A\n",
      "\u001b[36mTraining\u001b[0m - Epochs: 001/001:  64%|████▍  | 20864/32563 [00:15<00:08, 1436.92it/s]\u001b[0m\u001b[A"
     ]
    },
    {
     "name": "stdout",
     "output_type": "stream",
     "text": [
      "EncoderBlock torch.Size([128, 42, 128])\n",
      "EncoderBlock torch.Size([128, 42, 128])\n",
      "EncoderBlock torch.Size([128, 42, 128])\n"
     ]
    },
    {
     "name": "stderr",
     "output_type": "stream",
     "text": [
      "\n",
      "\u001b[36mTraining\u001b[0m - Epochs: 001/001:  64%|████▌  | 20992/32563 [00:15<00:08, 1436.92it/s]\u001b[0m\u001b[A\n",
      "\u001b[36mTraining\u001b[0m - Epochs: 001/001:  65%|████▌  | 21120/32563 [00:15<00:08, 1420.11it/s]\u001b[0m\u001b[A\n",
      "\u001b[36mTraining\u001b[0m - Epochs: 001/001:  65%|████▌  | 21120/32563 [00:15<00:08, 1420.11it/s]\u001b[0m\u001b[A\n",
      "\u001b[36mTraining\u001b[0m - Epochs: 001/001:  65%|████▌  | 21248/32563 [00:15<00:07, 1420.11it/s]\u001b[0m\u001b[A\n",
      "\u001b[36mTraining\u001b[0m - Epochs: 001/001:  66%|████▌  | 21376/32563 [00:15<00:07, 1444.96it/s]\u001b[0m\u001b[A"
     ]
    },
    {
     "name": "stdout",
     "output_type": "stream",
     "text": [
      "EncoderBlock torch.Size([128, 42, 128])\n",
      "EncoderBlock torch.Size([128, 42, 128])\n",
      "EncoderBlock torch.Size([128, 42, 128])\n"
     ]
    },
    {
     "name": "stderr",
     "output_type": "stream",
     "text": [
      "\n",
      "\u001b[36mTraining\u001b[0m - Epochs: 001/001:  66%|████▌  | 21376/32563 [00:15<00:07, 1444.96it/s]\u001b[0m\u001b[A\n",
      "\u001b[36mTraining\u001b[0m - Epochs: 001/001:  66%|████▌  | 21504/32563 [00:15<00:07, 1444.96it/s]\u001b[0m\u001b[A\n",
      "\u001b[36mTraining\u001b[0m - Epochs: 001/001:  66%|████▋  | 21632/32563 [00:15<00:07, 1434.97it/s]\u001b[0m\u001b[A\n",
      "\u001b[36mTraining\u001b[0m - Epochs: 001/001:  66%|████▋  | 21632/32563 [00:15<00:07, 1434.97it/s]\u001b[0m\u001b[A"
     ]
    },
    {
     "name": "stdout",
     "output_type": "stream",
     "text": [
      "EncoderBlock torch.Size([128, 42, 128])\n",
      "EncoderBlock torch.Size([128, 42, 128])\n",
      "EncoderBlock torch.Size([128, 42, 128])\n"
     ]
    },
    {
     "name": "stderr",
     "output_type": "stream",
     "text": [
      "\n",
      "\u001b[36mTraining\u001b[0m - Epochs: 001/001:  67%|████▋  | 21760/32563 [00:15<00:07, 1434.97it/s]\u001b[0m\u001b[A\n",
      "\u001b[36mTraining\u001b[0m - Epochs: 001/001:  67%|████▋  | 21888/32563 [00:15<00:07, 1448.99it/s]\u001b[0m\u001b[A\n",
      "\u001b[36mTraining\u001b[0m - Epochs: 001/001:  67%|████▋  | 21888/32563 [00:15<00:07, 1448.99it/s]\u001b[0m\u001b[A\n",
      "\u001b[36mTraining\u001b[0m - Epochs: 001/001:  68%|████▋  | 22016/32563 [00:16<00:07, 1448.99it/s]\u001b[0m\u001b[A\n",
      "\u001b[36mTraining\u001b[0m - Epochs: 001/001:  68%|████▊  | 22144/32563 [00:16<00:07, 1466.78it/s]\u001b[0m\u001b[A"
     ]
    },
    {
     "name": "stdout",
     "output_type": "stream",
     "text": [
      "EncoderBlock torch.Size([128, 42, 128])\n",
      "EncoderBlock torch.Size([128, 42, 128])\n",
      "EncoderBlock torch.Size([128, 42, 128])\n"
     ]
    },
    {
     "name": "stderr",
     "output_type": "stream",
     "text": [
      "\n",
      "\u001b[36mTraining\u001b[0m - Epochs: 001/001:  68%|████▊  | 22144/32563 [00:16<00:07, 1466.78it/s]\u001b[0m\u001b[A\n",
      "\u001b[36mTraining\u001b[0m - Epochs: 001/001:  68%|████▊  | 22272/32563 [00:16<00:07, 1466.78it/s]\u001b[0m\u001b[A\n",
      "\u001b[36mTraining\u001b[0m - Epochs: 001/001:  69%|████▊  | 22400/32563 [00:16<00:06, 1456.54it/s]\u001b[0m\u001b[A\n",
      "\u001b[36mTraining\u001b[0m - Epochs: 001/001:  69%|████▊  | 22400/32563 [00:16<00:06, 1456.54it/s]\u001b[0m\u001b[A"
     ]
    },
    {
     "name": "stdout",
     "output_type": "stream",
     "text": [
      "EncoderBlock torch.Size([128, 42, 128])\n",
      "EncoderBlock torch.Size([128, 42, 128])\n",
      "EncoderBlock torch.Size([128, 42, 128])\n"
     ]
    },
    {
     "name": "stderr",
     "output_type": "stream",
     "text": [
      "\n",
      "\u001b[36mTraining\u001b[0m - Epochs: 001/001:  69%|████▊  | 22528/32563 [00:16<00:06, 1456.54it/s]\u001b[0m\u001b[A\n",
      "\u001b[36mTraining\u001b[0m - Epochs: 001/001:  70%|████▊  | 22656/32563 [00:16<00:06, 1441.40it/s]\u001b[0m\u001b[A\n",
      "\u001b[36mTraining\u001b[0m - Epochs: 001/001:  70%|████▊  | 22656/32563 [00:16<00:06, 1441.40it/s]\u001b[0m\u001b[A\n",
      "\u001b[36mTraining\u001b[0m - Epochs: 001/001:  70%|████▉  | 22784/32563 [00:16<00:06, 1441.40it/s]\u001b[0m\u001b[A\n",
      "\u001b[36mTraining\u001b[0m - Epochs: 001/001:  70%|████▉  | 22912/32563 [00:16<00:06, 1451.84it/s]\u001b[0m\u001b[A"
     ]
    },
    {
     "name": "stdout",
     "output_type": "stream",
     "text": [
      "EncoderBlock torch.Size([128, 42, 128])\n",
      "EncoderBlock torch.Size([128, 42, 128])\n",
      "EncoderBlock torch.Size([128, 42, 128])\n"
     ]
    },
    {
     "name": "stderr",
     "output_type": "stream",
     "text": [
      "\n",
      "\u001b[36mTraining\u001b[0m - Epochs: 001/001:  70%|████▉  | 22912/32563 [00:16<00:06, 1451.84it/s]\u001b[0m\u001b[A\n",
      "\u001b[36mTraining\u001b[0m - Epochs: 001/001:  71%|████▉  | 23040/32563 [00:16<00:06, 1451.84it/s]\u001b[0m\u001b[A\n",
      "\u001b[36mTraining\u001b[0m - Epochs: 001/001:  71%|████▉  | 23168/32563 [00:16<00:06, 1472.55it/s]\u001b[0m\u001b[A\n",
      "\u001b[36mTraining\u001b[0m - Epochs: 001/001:  71%|████▉  | 23168/32563 [00:16<00:06, 1472.55it/s]\u001b[0m\u001b[A"
     ]
    },
    {
     "name": "stdout",
     "output_type": "stream",
     "text": [
      "EncoderBlock torch.Size([128, 42, 128])\n",
      "EncoderBlock torch.Size([128, 42, 128])\n",
      "EncoderBlock torch.Size([128, 42, 128])\n"
     ]
    },
    {
     "name": "stderr",
     "output_type": "stream",
     "text": [
      "\n",
      "\u001b[36mTraining\u001b[0m - Epochs: 001/001:  72%|█████  | 23296/32563 [00:16<00:06, 1472.55it/s]\u001b[0m\u001b[A\n",
      "\u001b[36mTraining\u001b[0m - Epochs: 001/001:  72%|█████  | 23424/32563 [00:16<00:06, 1480.85it/s]\u001b[0m\u001b[A\n",
      "\u001b[36mTraining\u001b[0m - Epochs: 001/001:  72%|█████  | 23424/32563 [00:16<00:06, 1480.85it/s]\u001b[0m\u001b[A\n",
      "\u001b[36mTraining\u001b[0m - Epochs: 001/001:  72%|█████  | 23552/32563 [00:17<00:06, 1480.85it/s]\u001b[0m\u001b[A\n",
      "\u001b[36mTraining\u001b[0m - Epochs: 001/001:  73%|█████  | 23680/32563 [00:17<00:05, 1499.06it/s]\u001b[0m\u001b[A"
     ]
    },
    {
     "name": "stdout",
     "output_type": "stream",
     "text": [
      "EncoderBlock torch.Size([128, 42, 128])\n",
      "EncoderBlock torch.Size([128, 42, 128])\n",
      "EncoderBlock torch.Size([128, 42, 128])\n"
     ]
    },
    {
     "name": "stderr",
     "output_type": "stream",
     "text": [
      "\n",
      "\u001b[36mTraining\u001b[0m - Epochs: 001/001:  73%|█████  | 23680/32563 [00:17<00:05, 1499.06it/s]\u001b[0m\u001b[A\n",
      "\u001b[36mTraining\u001b[0m - Epochs: 001/001:  73%|█████  | 23808/32563 [00:17<00:05, 1499.06it/s]\u001b[0m\u001b[A\n",
      "\u001b[36mTraining\u001b[0m - Epochs: 001/001:  74%|█████▏ | 23936/32563 [00:17<00:05, 1494.58it/s]\u001b[0m\u001b[A\n",
      "\u001b[36mTraining\u001b[0m - Epochs: 001/001:  74%|█████▏ | 23936/32563 [00:17<00:05, 1494.58it/s]\u001b[0m\u001b[A"
     ]
    },
    {
     "name": "stdout",
     "output_type": "stream",
     "text": [
      "EncoderBlock torch.Size([128, 42, 128])\n",
      "EncoderBlock torch.Size([128, 42, 128])\n",
      "EncoderBlock torch.Size([128, 42, 128])\n"
     ]
    },
    {
     "name": "stderr",
     "output_type": "stream",
     "text": [
      "\n",
      "\u001b[36mTraining\u001b[0m - Epochs: 001/001:  74%|█████▏ | 24064/32563 [00:17<00:05, 1494.58it/s]\u001b[0m\u001b[A\n",
      "\u001b[36mTraining\u001b[0m - Epochs: 001/001:  74%|█████▏ | 24192/32563 [00:17<00:05, 1490.43it/s]\u001b[0m\u001b[A\n",
      "\u001b[36mTraining\u001b[0m - Epochs: 001/001:  74%|█████▏ | 24192/32563 [00:17<00:05, 1490.43it/s]\u001b[0m\u001b[A\n",
      "\u001b[36mTraining\u001b[0m - Epochs: 001/001:  75%|█████▏ | 24320/32563 [00:17<00:05, 1490.43it/s]\u001b[0m\u001b[A\n",
      "\u001b[36mTraining\u001b[0m - Epochs: 001/001:  75%|█████▎ | 24448/32563 [00:17<00:05, 1486.92it/s]\u001b[0m\u001b[A"
     ]
    },
    {
     "name": "stdout",
     "output_type": "stream",
     "text": [
      "EncoderBlock torch.Size([128, 42, 128])\n",
      "EncoderBlock torch.Size([128, 42, 128])\n",
      "EncoderBlock torch.Size([128, 42, 128])\n"
     ]
    },
    {
     "name": "stderr",
     "output_type": "stream",
     "text": [
      "\n",
      "\u001b[36mTraining\u001b[0m - Epochs: 001/001:  75%|█████▎ | 24448/32563 [00:17<00:05, 1486.92it/s]\u001b[0m\u001b[A\n",
      "\u001b[36mTraining\u001b[0m - Epochs: 001/001:  75%|█████▎ | 24576/32563 [00:17<00:05, 1486.92it/s]\u001b[0m\u001b[A\n",
      "\u001b[36mTraining\u001b[0m - Epochs: 001/001:  76%|█████▎ | 24704/32563 [00:17<00:05, 1477.87it/s]\u001b[0m\u001b[A\n",
      "\u001b[36mTraining\u001b[0m - Epochs: 001/001:  76%|█████▎ | 24704/32563 [00:17<00:05, 1477.87it/s]\u001b[0m\u001b[A"
     ]
    },
    {
     "name": "stdout",
     "output_type": "stream",
     "text": [
      "EncoderBlock torch.Size([128, 42, 128])\n",
      "EncoderBlock torch.Size([128, 42, 128])\n",
      "EncoderBlock torch.Size([128, 42, 128])\n"
     ]
    },
    {
     "name": "stderr",
     "output_type": "stream",
     "text": [
      "\n",
      "\u001b[36mTraining\u001b[0m - Epochs: 001/001:  76%|█████▎ | 24832/32563 [00:17<00:05, 1477.87it/s]\u001b[0m\u001b[A\n",
      "\u001b[36mTraining\u001b[0m - Epochs: 001/001:  77%|█████▎ | 24960/32563 [00:17<00:05, 1475.44it/s]\u001b[0m\u001b[A\n",
      "\u001b[36mTraining\u001b[0m - Epochs: 001/001:  77%|█████▎ | 24960/32563 [00:18<00:05, 1475.44it/s]\u001b[0m\u001b[A\n",
      "\u001b[36mTraining\u001b[0m - Epochs: 001/001:  77%|█████▍ | 25088/32563 [00:18<00:05, 1475.44it/s]\u001b[0m\u001b[A\n",
      "\u001b[36mTraining\u001b[0m - Epochs: 001/001:  77%|█████▍ | 25216/32563 [00:18<00:04, 1494.51it/s]\u001b[0m\u001b[A"
     ]
    },
    {
     "name": "stdout",
     "output_type": "stream",
     "text": [
      "EncoderBlock torch.Size([128, 42, 128])\n",
      "EncoderBlock torch.Size([128, 42, 128])\n",
      "EncoderBlock torch.Size([128, 42, 128])\n"
     ]
    },
    {
     "name": "stderr",
     "output_type": "stream",
     "text": [
      "\n",
      "\u001b[36mTraining\u001b[0m - Epochs: 001/001:  77%|█████▍ | 25216/32563 [00:18<00:04, 1494.51it/s]\u001b[0m\u001b[A\n",
      "\u001b[36mTraining\u001b[0m - Epochs: 001/001:  78%|█████▍ | 25344/32563 [00:18<00:04, 1494.51it/s]\u001b[0m\u001b[A\n",
      "\u001b[36mTraining\u001b[0m - Epochs: 001/001:  78%|█████▍ | 25472/32563 [00:18<00:04, 1498.65it/s]\u001b[0m\u001b[A"
     ]
    },
    {
     "name": "stdout",
     "output_type": "stream",
     "text": [
      "EncoderBlock torch.Size([128, 42, 128])\n",
      "EncoderBlock torch.Size([128, 42, 128])\n"
     ]
    },
    {
     "name": "stderr",
     "output_type": "stream",
     "text": [
      "\n",
      "\u001b[36mTraining\u001b[0m - Epochs: 001/001:  78%|█████▍ | 25472/32563 [00:18<00:04, 1498.65it/s]\u001b[0m\u001b[A\n",
      "\u001b[36mTraining\u001b[0m - Epochs: 001/001:  79%|█████▌ | 25600/32563 [00:18<00:04, 1498.65it/s]\u001b[0m\u001b[A\n",
      "\u001b[36mTraining\u001b[0m - Epochs: 001/001:  79%|█████▌ | 25728/32563 [00:18<00:04, 1367.07it/s]\u001b[0m\u001b[A\n",
      "\u001b[36mTraining\u001b[0m - Epochs: 001/001:  79%|█████▌ | 25728/32563 [00:18<00:04, 1367.07it/s]\u001b[0m\u001b[A"
     ]
    },
    {
     "name": "stdout",
     "output_type": "stream",
     "text": [
      "EncoderBlock torch.Size([128, 42, 128])\n",
      "EncoderBlock torch.Size([128, 42, 128])\n",
      "EncoderBlock torch.Size([128, 42, 128])\n"
     ]
    },
    {
     "name": "stderr",
     "output_type": "stream",
     "text": [
      "\n",
      "\u001b[36mTraining\u001b[0m - Epochs: 001/001:  79%|█████▌ | 25856/32563 [00:18<00:04, 1367.07it/s]\u001b[0m\u001b[A\n",
      "\u001b[36mTraining\u001b[0m - Epochs: 001/001:  80%|█████▌ | 25984/32563 [00:18<00:04, 1389.74it/s]\u001b[0m\u001b[A\n",
      "\u001b[36mTraining\u001b[0m - Epochs: 001/001:  80%|█████▌ | 25984/32563 [00:18<00:04, 1389.74it/s]\u001b[0m\u001b[A\n",
      "\u001b[36mTraining\u001b[0m - Epochs: 001/001:  80%|█████▌ | 26112/32563 [00:18<00:04, 1389.74it/s]\u001b[0m\u001b[A\n",
      "\u001b[36mTraining\u001b[0m - Epochs: 001/001:  81%|█████▋ | 26240/32563 [00:18<00:04, 1402.53it/s]\u001b[0m\u001b[A"
     ]
    },
    {
     "name": "stdout",
     "output_type": "stream",
     "text": [
      "EncoderBlock torch.Size([128, 42, 128])\n",
      "EncoderBlock torch.Size([128, 42, 128])\n",
      "EncoderBlock torch.Size([128, 42, 128])\n"
     ]
    },
    {
     "name": "stderr",
     "output_type": "stream",
     "text": [
      "\n",
      "\u001b[36mTraining\u001b[0m - Epochs: 001/001:  81%|█████▋ | 26240/32563 [00:18<00:04, 1402.53it/s]\u001b[0m\u001b[A\n",
      "\u001b[36mTraining\u001b[0m - Epochs: 001/001:  81%|█████▋ | 26368/32563 [00:19<00:04, 1402.53it/s]\u001b[0m\u001b[A\n",
      "\u001b[36mTraining\u001b[0m - Epochs: 001/001:  81%|█████▋ | 26496/32563 [00:19<00:04, 1396.53it/s]\u001b[0m\u001b[A\n",
      "\u001b[36mTraining\u001b[0m - Epochs: 001/001:  81%|█████▋ | 26496/32563 [00:19<00:04, 1396.53it/s]\u001b[0m\u001b[A"
     ]
    },
    {
     "name": "stdout",
     "output_type": "stream",
     "text": [
      "EncoderBlock torch.Size([128, 42, 128])\n",
      "EncoderBlock torch.Size([128, 42, 128])\n",
      "EncoderBlock torch.Size([128, 42, 128])\n"
     ]
    },
    {
     "name": "stderr",
     "output_type": "stream",
     "text": [
      "\n",
      "\u001b[36mTraining\u001b[0m - Epochs: 001/001:  82%|█████▋ | 26624/32563 [00:19<00:04, 1396.53it/s]\u001b[0m\u001b[A\n",
      "\u001b[36mTraining\u001b[0m - Epochs: 001/001:  82%|█████▊ | 26752/32563 [00:19<00:04, 1423.62it/s]\u001b[0m\u001b[A\n",
      "\u001b[36mTraining\u001b[0m - Epochs: 001/001:  82%|█████▊ | 26752/32563 [00:19<00:04, 1423.62it/s]\u001b[0m\u001b[A\n",
      "\u001b[36mTraining\u001b[0m - Epochs: 001/001:  83%|█████▊ | 26880/32563 [00:19<00:03, 1423.62it/s]\u001b[0m\u001b[A\n",
      "\u001b[36mTraining\u001b[0m - Epochs: 001/001:  83%|█████▊ | 27008/32563 [00:19<00:03, 1451.32it/s]\u001b[0m\u001b[A"
     ]
    },
    {
     "name": "stdout",
     "output_type": "stream",
     "text": [
      "EncoderBlock torch.Size([128, 42, 128])\n",
      "EncoderBlock torch.Size([128, 42, 128])\n",
      "EncoderBlock torch.Size([128, 42, 128])\n"
     ]
    },
    {
     "name": "stderr",
     "output_type": "stream",
     "text": [
      "\n",
      "\u001b[36mTraining\u001b[0m - Epochs: 001/001:  83%|█████▊ | 27008/32563 [00:19<00:03, 1451.32it/s]\u001b[0m\u001b[A\n",
      "\u001b[36mTraining\u001b[0m - Epochs: 001/001:  83%|█████▊ | 27136/32563 [00:19<00:03, 1451.32it/s]\u001b[0m\u001b[A\n",
      "\u001b[36mTraining\u001b[0m - Epochs: 001/001:  84%|█████▊ | 27264/32563 [00:19<00:03, 1367.40it/s]\u001b[0m\u001b[A"
     ]
    },
    {
     "name": "stdout",
     "output_type": "stream",
     "text": [
      "EncoderBlock torch.Size([128, 42, 128])\n",
      "EncoderBlock torch.Size([128, 42, 128])\n"
     ]
    },
    {
     "name": "stderr",
     "output_type": "stream",
     "text": [
      "\n",
      "\u001b[36mTraining\u001b[0m - Epochs: 001/001:  84%|█████▊ | 27264/32563 [00:19<00:03, 1367.40it/s]\u001b[0m\u001b[A\n",
      "\u001b[36mTraining\u001b[0m - Epochs: 001/001:  84%|█████▉ | 27392/32563 [00:19<00:03, 1367.40it/s]\u001b[0m\u001b[A\n",
      "\u001b[36mTraining\u001b[0m - Epochs: 001/001:  85%|█████▉ | 27520/32563 [00:19<00:04, 1172.40it/s]\u001b[0m\u001b[A"
     ]
    },
    {
     "name": "stdout",
     "output_type": "stream",
     "text": [
      "EncoderBlock torch.Size([128, 42, 128])\n",
      "EncoderBlock torch.Size([128, 42, 128])\n"
     ]
    },
    {
     "name": "stderr",
     "output_type": "stream",
     "text": [
      "\n",
      "\u001b[36mTraining\u001b[0m - Epochs: 001/001:  85%|█████▉ | 27520/32563 [00:19<00:04, 1172.40it/s]\u001b[0m\u001b[A\n",
      "\u001b[36mTraining\u001b[0m - Epochs: 001/001:  85%|█████▉ | 27648/32563 [00:19<00:04, 1178.10it/s]\u001b[0m\u001b[A\n",
      "\u001b[36mTraining\u001b[0m - Epochs: 001/001:  85%|█████▉ | 27648/32563 [00:20<00:04, 1178.10it/s]\u001b[0m\u001b[A\n",
      "\u001b[36mTraining\u001b[0m - Epochs: 001/001:  85%|█████▉ | 27776/32563 [00:20<00:04, 1157.03it/s]\u001b[0m\u001b[A"
     ]
    },
    {
     "name": "stdout",
     "output_type": "stream",
     "text": [
      "EncoderBlock torch.Size([128, 42, 128])\n",
      "EncoderBlock torch.Size([128, 42, 128])\n"
     ]
    },
    {
     "name": "stderr",
     "output_type": "stream",
     "text": [
      "\n",
      "\u001b[36mTraining\u001b[0m - Epochs: 001/001:  85%|█████▉ | 27776/32563 [00:20<00:04, 1157.03it/s]\u001b[0m\u001b[A\n",
      "\u001b[36mTraining\u001b[0m - Epochs: 001/001:  86%|█████▉ | 27904/32563 [00:20<00:04, 1111.37it/s]\u001b[0m\u001b[A\n",
      "\u001b[36mTraining\u001b[0m - Epochs: 001/001:  86%|█████▉ | 27904/32563 [00:20<00:04, 1111.37it/s]\u001b[0m\u001b[A\n",
      "\u001b[36mTraining\u001b[0m - Epochs: 001/001:  86%|██████ | 28032/32563 [00:20<00:04, 1123.10it/s]\u001b[0m\u001b[A"
     ]
    },
    {
     "name": "stdout",
     "output_type": "stream",
     "text": [
      "EncoderBlock torch.Size([128, 42, 128])\n",
      "EncoderBlock torch.Size([128, 42, 128])\n"
     ]
    },
    {
     "name": "stderr",
     "output_type": "stream",
     "text": [
      "\n",
      "\u001b[36mTraining\u001b[0m - Epochs: 001/001:  86%|██████ | 28032/32563 [00:20<00:04, 1123.10it/s]\u001b[0m\u001b[A\n",
      "\u001b[36mTraining\u001b[0m - Epochs: 001/001:  86%|██████ | 28160/32563 [00:20<00:03, 1144.70it/s]\u001b[0m\u001b[A\n",
      "\u001b[36mTraining\u001b[0m - Epochs: 001/001:  86%|██████ | 28160/32563 [00:20<00:03, 1144.70it/s]\u001b[0m\u001b[A\n",
      "\u001b[36mTraining\u001b[0m - Epochs: 001/001:  87%|██████ | 28288/32563 [00:20<00:03, 1144.70it/s]\u001b[0m\u001b[A\n",
      "\u001b[36mTraining\u001b[0m - Epochs: 001/001:  87%|██████ | 28416/32563 [00:20<00:03, 1212.21it/s]\u001b[0m\u001b[A"
     ]
    },
    {
     "name": "stdout",
     "output_type": "stream",
     "text": [
      "EncoderBlock torch.Size([128, 42, 128])\n",
      "EncoderBlock torch.Size([128, 42, 128])\n",
      "EncoderBlock torch.Size([128, 42, 128])\n"
     ]
    },
    {
     "name": "stderr",
     "output_type": "stream",
     "text": [
      "\n",
      "\u001b[36mTraining\u001b[0m - Epochs: 001/001:  87%|██████ | 28416/32563 [00:20<00:03, 1212.21it/s]\u001b[0m\u001b[A\n",
      "\u001b[36mTraining\u001b[0m - Epochs: 001/001:  88%|██████▏| 28544/32563 [00:20<00:03, 1212.21it/s]\u001b[0m\u001b[A\n",
      "\u001b[36mTraining\u001b[0m - Epochs: 001/001:  88%|██████▏| 28672/32563 [00:20<00:03, 1263.55it/s]\u001b[0m\u001b[A"
     ]
    },
    {
     "name": "stdout",
     "output_type": "stream",
     "text": [
      "EncoderBlock torch.Size([128, 42, 128])\n",
      "EncoderBlock torch.Size([128, 42, 128])\n"
     ]
    },
    {
     "name": "stderr",
     "output_type": "stream",
     "text": [
      "\n",
      "\u001b[36mTraining\u001b[0m - Epochs: 001/001:  88%|██████▏| 28672/32563 [00:20<00:03, 1263.55it/s]\u001b[0m\u001b[A\n",
      "\u001b[36mTraining\u001b[0m - Epochs: 001/001:  88%|██████▏| 28800/32563 [00:20<00:03, 1248.69it/s]\u001b[0m\u001b[A\n",
      "\u001b[36mTraining\u001b[0m - Epochs: 001/001:  88%|██████▏| 28800/32563 [00:21<00:03, 1248.69it/s]\u001b[0m\u001b[A\n",
      "\u001b[36mTraining\u001b[0m - Epochs: 001/001:  89%|██████▏| 28928/32563 [00:21<00:02, 1249.22it/s]\u001b[0m\u001b[A\n",
      "\u001b[36mTraining\u001b[0m - Epochs: 001/001:  89%|██████▏| 28928/32563 [00:21<00:02, 1249.22it/s]\u001b[0m\u001b[A"
     ]
    },
    {
     "name": "stdout",
     "output_type": "stream",
     "text": [
      "EncoderBlock torch.Size([128, 42, 128])\n",
      "EncoderBlock torch.Size([128, 42, 128])\n",
      "EncoderBlock torch.Size([128, 42, 128])\n"
     ]
    },
    {
     "name": "stderr",
     "output_type": "stream",
     "text": [
      "\n",
      "\u001b[36mTraining\u001b[0m - Epochs: 001/001:  89%|██████▏| 29056/32563 [00:21<00:02, 1249.22it/s]\u001b[0m\u001b[A\n",
      "\u001b[36mTraining\u001b[0m - Epochs: 001/001:  90%|██████▎| 29184/32563 [00:21<00:02, 1324.17it/s]\u001b[0m\u001b[A\n",
      "\u001b[36mTraining\u001b[0m - Epochs: 001/001:  90%|██████▎| 29184/32563 [00:21<00:02, 1324.17it/s]\u001b[0m\u001b[A\n",
      "\u001b[36mTraining\u001b[0m - Epochs: 001/001:  90%|██████▎| 29312/32563 [00:21<00:02, 1324.17it/s]\u001b[0m\u001b[A\n",
      "\u001b[36mTraining\u001b[0m - Epochs: 001/001:  90%|██████▎| 29440/32563 [00:21<00:02, 1379.65it/s]\u001b[0m\u001b[A"
     ]
    },
    {
     "name": "stdout",
     "output_type": "stream",
     "text": [
      "EncoderBlock torch.Size([128, 42, 128])\n",
      "EncoderBlock torch.Size([128, 42, 128])\n",
      "EncoderBlock torch.Size([128, 42, 128])\n"
     ]
    },
    {
     "name": "stderr",
     "output_type": "stream",
     "text": [
      "\n",
      "\u001b[36mTraining\u001b[0m - Epochs: 001/001:  90%|██████▎| 29440/32563 [00:21<00:02, 1379.65it/s]\u001b[0m\u001b[A\n",
      "\u001b[36mTraining\u001b[0m - Epochs: 001/001:  91%|██████▎| 29568/32563 [00:21<00:02, 1379.65it/s]\u001b[0m\u001b[A\n",
      "\u001b[36mTraining\u001b[0m - Epochs: 001/001:  91%|██████▍| 29696/32563 [00:21<00:02, 1397.49it/s]\u001b[0m\u001b[A\n",
      "\u001b[36mTraining\u001b[0m - Epochs: 001/001:  91%|██████▍| 29696/32563 [00:21<00:02, 1397.49it/s]\u001b[0m\u001b[A"
     ]
    },
    {
     "name": "stdout",
     "output_type": "stream",
     "text": [
      "EncoderBlock torch.Size([128, 42, 128])\n",
      "EncoderBlock torch.Size([128, 42, 128])\n",
      "EncoderBlock torch.Size([128, 42, 128])\n"
     ]
    },
    {
     "name": "stderr",
     "output_type": "stream",
     "text": [
      "\n",
      "\u001b[36mTraining\u001b[0m - Epochs: 001/001:  92%|██████▍| 29824/32563 [00:21<00:01, 1397.49it/s]\u001b[0m\u001b[A\n",
      "\u001b[36mTraining\u001b[0m - Epochs: 001/001:  92%|██████▍| 29952/32563 [00:21<00:01, 1390.31it/s]\u001b[0m\u001b[A\n",
      "\u001b[36mTraining\u001b[0m - Epochs: 001/001:  92%|██████▍| 29952/32563 [00:21<00:01, 1390.31it/s]\u001b[0m\u001b[A\n",
      "\u001b[36mTraining\u001b[0m - Epochs: 001/001:  92%|██████▍| 30080/32563 [00:21<00:01, 1390.31it/s]\u001b[0m\u001b[A\n",
      "\u001b[36mTraining\u001b[0m - Epochs: 001/001:  93%|██████▍| 30208/32563 [00:21<00:01, 1398.07it/s]\u001b[0m\u001b[A"
     ]
    },
    {
     "name": "stdout",
     "output_type": "stream",
     "text": [
      "EncoderBlock torch.Size([128, 42, 128])\n",
      "EncoderBlock torch.Size([128, 42, 128])\n",
      "EncoderBlock torch.Size([128, 42, 128])\n"
     ]
    },
    {
     "name": "stderr",
     "output_type": "stream",
     "text": [
      "\n",
      "\u001b[36mTraining\u001b[0m - Epochs: 001/001:  93%|██████▍| 30208/32563 [00:22<00:01, 1398.07it/s]\u001b[0m\u001b[A\n",
      "\u001b[36mTraining\u001b[0m - Epochs: 001/001:  93%|██████▌| 30336/32563 [00:22<00:01, 1398.07it/s]\u001b[0m\u001b[A\n",
      "\u001b[36mTraining\u001b[0m - Epochs: 001/001:  94%|██████▌| 30464/32563 [00:22<00:01, 1335.63it/s]\u001b[0m\u001b[A\n",
      "\u001b[36mTraining\u001b[0m - Epochs: 001/001:  94%|██████▌| 30464/32563 [00:22<00:01, 1335.63it/s]\u001b[0m\u001b[A"
     ]
    },
    {
     "name": "stdout",
     "output_type": "stream",
     "text": [
      "EncoderBlock torch.Size([128, 42, 128])\n",
      "EncoderBlock torch.Size([128, 42, 128])\n",
      "EncoderBlock torch.Size([128, 42, 128])\n"
     ]
    },
    {
     "name": "stderr",
     "output_type": "stream",
     "text": [
      "\n",
      "\u001b[36mTraining\u001b[0m - Epochs: 001/001:  94%|██████▌| 30592/32563 [00:22<00:01, 1335.63it/s]\u001b[0m\u001b[A\n",
      "\u001b[36mTraining\u001b[0m - Epochs: 001/001:  94%|██████▌| 30720/32563 [00:22<00:01, 1399.44it/s]\u001b[0m\u001b[A\n",
      "\u001b[36mTraining\u001b[0m - Epochs: 001/001:  94%|██████▌| 30720/32563 [00:22<00:01, 1399.44it/s]\u001b[0m\u001b[A\n",
      "\u001b[36mTraining\u001b[0m - Epochs: 001/001:  95%|██████▋| 30848/32563 [00:22<00:01, 1399.44it/s]\u001b[0m\u001b[A\n",
      "\u001b[36mTraining\u001b[0m - Epochs: 001/001:  95%|██████▋| 30976/32563 [00:22<00:01, 1388.18it/s]\u001b[0m\u001b[A"
     ]
    },
    {
     "name": "stdout",
     "output_type": "stream",
     "text": [
      "EncoderBlock torch.Size([128, 42, 128])\n",
      "EncoderBlock torch.Size([128, 42, 128])\n",
      "EncoderBlock torch.Size([128, 42, 128])\n"
     ]
    },
    {
     "name": "stderr",
     "output_type": "stream",
     "text": [
      "\n",
      "\u001b[36mTraining\u001b[0m - Epochs: 001/001:  95%|██████▋| 30976/32563 [00:22<00:01, 1388.18it/s]\u001b[0m\u001b[A\n",
      "\u001b[36mTraining\u001b[0m - Epochs: 001/001:  96%|██████▋| 31104/32563 [00:22<00:01, 1388.18it/s]\u001b[0m\u001b[A\n",
      "\u001b[36mTraining\u001b[0m - Epochs: 001/001:  96%|██████▋| 31232/32563 [00:22<00:00, 1415.47it/s]\u001b[0m\u001b[A"
     ]
    },
    {
     "name": "stdout",
     "output_type": "stream",
     "text": [
      "EncoderBlock torch.Size([128, 42, 128])\n",
      "EncoderBlock torch.Size([128, 42, 128])\n"
     ]
    },
    {
     "name": "stderr",
     "output_type": "stream",
     "text": [
      "\n",
      "\u001b[36mTraining\u001b[0m - Epochs: 001/001:  96%|██████▋| 31232/32563 [00:22<00:00, 1415.47it/s]\u001b[0m\u001b[A\n",
      "\u001b[36mTraining\u001b[0m - Epochs: 001/001:  96%|██████▋| 31360/32563 [00:22<00:00, 1415.47it/s]\u001b[0m\u001b[A\n",
      "\u001b[36mTraining\u001b[0m - Epochs: 001/001:  97%|██████▊| 31488/32563 [00:22<00:00, 1322.19it/s]\u001b[0m\u001b[A\n",
      "\u001b[36mTraining\u001b[0m - Epochs: 001/001:  97%|██████▊| 31488/32563 [00:22<00:00, 1322.19it/s]\u001b[0m\u001b[A"
     ]
    },
    {
     "name": "stdout",
     "output_type": "stream",
     "text": [
      "EncoderBlock torch.Size([128, 42, 128])\n",
      "EncoderBlock torch.Size([128, 42, 128])\n",
      "EncoderBlock torch.Size([128, 42, 128])\n"
     ]
    },
    {
     "name": "stderr",
     "output_type": "stream",
     "text": [
      "\n",
      "\u001b[36mTraining\u001b[0m - Epochs: 001/001:  97%|██████▊| 31616/32563 [00:23<00:00, 1322.19it/s]\u001b[0m\u001b[A\n",
      "\u001b[36mTraining\u001b[0m - Epochs: 001/001:  97%|██████▊| 31744/32563 [00:23<00:00, 1371.19it/s]\u001b[0m\u001b[A\n",
      "\u001b[36mTraining\u001b[0m - Epochs: 001/001:  97%|██████▊| 31744/32563 [00:23<00:00, 1371.19it/s]\u001b[0m\u001b[A\n",
      "\u001b[36mTraining\u001b[0m - Epochs: 001/001:  98%|██████▊| 31872/32563 [00:23<00:00, 1371.19it/s]\u001b[0m\u001b[A\n",
      "\u001b[36mTraining\u001b[0m - Epochs: 001/001:  98%|██████▉| 32000/32563 [00:23<00:00, 1419.34it/s]\u001b[0m\u001b[A"
     ]
    },
    {
     "name": "stdout",
     "output_type": "stream",
     "text": [
      "EncoderBlock torch.Size([128, 42, 128])\n",
      "EncoderBlock torch.Size([128, 42, 128])\n",
      "EncoderBlock torch.Size([128, 42, 128])\n"
     ]
    },
    {
     "name": "stderr",
     "output_type": "stream",
     "text": [
      "\n",
      "\u001b[36mTraining\u001b[0m - Epochs: 001/001:  98%|██████▉| 32000/32563 [00:23<00:00, 1419.34it/s]\u001b[0m\u001b[A\n",
      "\u001b[36mTraining\u001b[0m - Epochs: 001/001:  99%|██████▉| 32128/32563 [00:23<00:00, 1419.34it/s]\u001b[0m\u001b[A\n",
      "\u001b[36mTraining\u001b[0m - Epochs: 001/001:  99%|██████▉| 32256/32563 [00:23<00:00, 1409.76it/s]\u001b[0m\u001b[A\n",
      "\u001b[36mTraining\u001b[0m - Epochs: 001/001:  99%|██████▉| 32256/32563 [00:23<00:00, 1409.76it/s]\u001b[0m\u001b[A"
     ]
    },
    {
     "name": "stdout",
     "output_type": "stream",
     "text": [
      "EncoderBlock torch.Size([128, 42, 128])\n",
      "EncoderBlock torch.Size([128, 42, 128])\n",
      "EncoderBlock torch.Size([128, 42, 128])\n"
     ]
    },
    {
     "name": "stderr",
     "output_type": "stream",
     "text": [
      "\n",
      "\u001b[36mTraining\u001b[0m - Epochs: 001/001:  99%|██████▉| 32384/32563 [00:23<00:00, 1409.76it/s]\u001b[0m\u001b[A\n",
      "\u001b[36mTraining\u001b[0m - Epochs: 001/001: 100%|██████▉| 32512/32563 [00:23<00:00, 1429.20it/s]\u001b[0m\u001b[A\n",
      "\u001b[36mTraining\u001b[0m - Epochs: 001/001: 100%|███████| 32563/32563 [00:23<00:00, 1373.16it/s]\u001b[0m\u001b[A"
     ]
    },
    {
     "name": "stdout",
     "output_type": "stream",
     "text": [
      "EncoderBlock torch.Size([128, 42, 128])\n",
      "EncoderBlock torch.Size([51, 42, 128])\n"
     ]
    },
    {
     "name": "stderr",
     "output_type": "stream",
     "text": [
      "\n"
     ]
    }
   ],
   "source": [
    "# training network\n",
    "clf.fit(\n",
    "    {\"train\": train_loader,\n",
    "     \"val\": val_loader},\n",
    "     epochs= 1\n",
    ")"
   ]
  },
  {
   "cell_type": "code",
   "execution_count": 26,
   "id": "783d78bb",
   "metadata": {},
   "outputs": [
    {
     "name": "stderr",
     "output_type": "stream",
     "text": [
      "\n",
      "  0%|                                                  | 0/4188 [00:00<?, ?it/s]\u001b[A\n",
      "\u001b[32mEvaluating\u001b[0m:   0%|                                      | 0/4188 [00:00<?, ?it/s]\u001b[0m\u001b[A\n",
      "\u001b[32mEvaluating\u001b[0m:   3%|▊                         | 128/4188 [00:00<00:03, 1205.10it/s]\u001b[0m\u001b[A\n",
      "\u001b[32mEvaluating\u001b[0m:   6%|█▌                        | 256/4188 [00:00<00:01, 2393.15it/s]\u001b[0m\u001b[A\n",
      "\u001b[32mEvaluating\u001b[0m:   6%|█▌                        | 256/4188 [00:00<00:01, 2393.15it/s]\u001b[0m\u001b[A\n",
      "\u001b[32mEvaluating\u001b[0m:   9%|██▍                       | 384/4188 [00:00<00:01, 2393.15it/s]\u001b[0m\u001b[A\n",
      "\u001b[32mEvaluating\u001b[0m:  12%|███▏                      | 512/4188 [00:00<00:01, 2393.15it/s]\u001b[0m\u001b[A\n",
      "\u001b[32mEvaluating\u001b[0m:  15%|███▉                      | 640/4188 [00:00<00:01, 2704.69it/s]\u001b[0m\u001b[A"
     ]
    },
    {
     "name": "stdout",
     "output_type": "stream",
     "text": [
      "EncoderBlock torch.Size([128, 42, 128])\n",
      "tensor([1, 0, 0, 0, 1, 1, 1, 0, 1, 1, 1, 0, 1, 0, 0, 0, 0, 0, 0, 0, 0, 0, 0, 0,\n",
      "        1, 0, 0, 1, 1, 0, 0, 0, 1, 0, 0, 1, 0, 0, 1, 1, 0, 0, 1, 0, 1, 1, 0, 0,\n",
      "        0, 0, 0, 0, 0, 1, 1, 0, 0, 0, 0, 0, 0, 0, 0, 0, 1, 0, 0, 1, 0, 0, 1, 0,\n",
      "        0, 0, 0, 0, 0, 0, 0, 1, 1, 0, 0, 0, 0, 0, 0, 1, 1, 0, 0, 1, 0, 0, 1, 0,\n",
      "        1, 0, 0, 0, 1, 0, 0, 1, 0, 1, 0, 1, 1, 1, 0, 0, 0, 0, 0, 1, 0, 1, 0, 0,\n",
      "        1, 1, 1, 1, 1, 0, 0, 0])\n",
      "EncoderBlock torch.Size([128, 42, 128])\n",
      "tensor([0, 0, 1, 0, 1, 0, 1, 1, 0, 0, 0, 1, 0, 1, 0, 0, 0, 0, 0, 1, 0, 1, 1, 1,\n",
      "        0, 0, 0, 0, 1, 1, 1, 0, 0, 0, 0, 1, 0, 1, 1, 0, 0, 0, 0, 0, 0, 0, 1, 1,\n",
      "        0, 1, 0, 0, 0, 0, 0, 0, 0, 0, 0, 0, 1, 0, 1, 0, 1, 0, 0, 0, 0, 0, 0, 0,\n",
      "        0, 1, 0, 0, 0, 0, 0, 1, 1, 1, 0, 1, 0, 1, 0, 1, 0, 0, 1, 0, 0, 0, 0, 1,\n",
      "        0, 0, 0, 0, 0, 1, 0, 0, 1, 0, 0, 1, 0, 0, 0, 1, 0, 0, 1, 0, 1, 1, 0, 1,\n",
      "        0, 1, 0, 1, 0, 0, 1, 1])\n",
      "EncoderBlock torch.Size([128, 42, 128])\n",
      "tensor([0, 0, 0, 0, 0, 0, 0, 0, 1, 0, 0, 1, 0, 1, 0, 1, 0, 0, 0, 0, 1, 0, 0, 1,\n",
      "        0, 1, 0, 0, 0, 0, 0, 0, 0, 0, 0, 0, 0, 0, 0, 1, 0, 0, 0, 0, 0, 1, 0, 0,\n",
      "        0, 0, 0, 1, 0, 0, 0, 0, 0, 0, 0, 1, 0, 0, 0, 0, 0, 0, 1, 1, 0, 0, 0, 0,\n",
      "        1, 0, 0, 0, 0, 0, 0, 1, 0, 0, 0, 0, 0, 0, 0, 0, 0, 0, 0, 0, 0, 0, 1, 0,\n",
      "        1, 1, 0, 0, 0, 1, 0, 0, 0, 0, 1, 0, 0, 0, 1, 0, 0, 0, 1, 1, 0, 0, 0, 0,\n",
      "        0, 0, 0, 0, 1, 0, 0, 1])\n",
      "EncoderBlock torch.Size([128, 42, 128])\n",
      "tensor([0, 0, 0, 1, 0, 1, 0, 0, 0, 1, 0, 0, 0, 0, 0, 0, 0, 0, 1, 0, 0, 1, 0, 0,\n",
      "        0, 1, 0, 0, 1, 0, 0, 0, 0, 1, 1, 1, 0, 0, 0, 0, 0, 0, 0, 0, 0, 1, 0, 0,\n",
      "        0, 1, 0, 0, 0, 1, 1, 0, 0, 0, 0, 1, 0, 0, 0, 0, 1, 0, 0, 1, 1, 0, 1, 0,\n",
      "        0, 0, 0, 0, 0, 1, 0, 0, 0, 0, 0, 1, 0, 1, 0, 0, 0, 1, 0, 0, 0, 0, 0, 0,\n",
      "        0, 0, 0, 1, 0, 0, 0, 1, 0, 0, 0, 0, 0, 0, 1, 0, 0, 0, 0, 0, 0, 0, 0, 1,\n",
      "        0, 0, 1, 0, 1, 0, 0, 0])\n",
      "EncoderBlock torch.Size([128, 42, 128])\n"
     ]
    },
    {
     "name": "stderr",
     "output_type": "stream",
     "text": [
      "\n",
      "\u001b[32mEvaluating\u001b[0m:  15%|███▉                      | 640/4188 [00:00<00:01, 2704.69it/s]\u001b[0m\u001b[A\n",
      "\u001b[32mEvaluating\u001b[0m:  18%|████▊                     | 768/4188 [00:00<00:01, 2704.69it/s]\u001b[0m\u001b[A\n",
      "\u001b[32mEvaluating\u001b[0m:  21%|█████▌                    | 896/4188 [00:00<00:01, 2704.69it/s]\u001b[0m\u001b[A\n",
      "\u001b[32mEvaluating\u001b[0m:  24%|██████                   | 1024/4188 [00:00<00:01, 2738.56it/s]\u001b[0m\u001b[A\n",
      "\u001b[32mEvaluating\u001b[0m:  24%|██████                   | 1024/4188 [00:00<00:01, 2738.56it/s]\u001b[0m\u001b[A\n",
      "\u001b[32mEvaluating\u001b[0m:  28%|██████▉                  | 1152/4188 [00:00<00:01, 2738.56it/s]\u001b[0m\u001b[A"
     ]
    },
    {
     "name": "stdout",
     "output_type": "stream",
     "text": [
      "tensor([0, 0, 0, 0, 1, 0, 0, 1, 0, 0, 1, 1, 0, 1, 0, 0, 0, 1, 1, 0, 0, 1, 0, 1,\n",
      "        0, 0, 0, 0, 0, 0, 1, 1, 0, 1, 0, 1, 0, 0, 1, 0, 0, 0, 1, 1, 1, 1, 0, 1,\n",
      "        1, 1, 0, 0, 0, 1, 0, 0, 1, 1, 1, 0, 0, 0, 0, 0, 0, 0, 1, 0, 0, 0, 1, 0,\n",
      "        0, 0, 0, 0, 0, 0, 0, 0, 0, 0, 0, 0, 1, 0, 0, 0, 0, 0, 0, 1, 0, 0, 0, 1,\n",
      "        0, 0, 1, 1, 0, 1, 0, 0, 0, 0, 1, 0, 0, 0, 0, 0, 0, 1, 0, 0, 0, 0, 0, 0,\n",
      "        0, 0, 1, 0, 0, 0, 0, 1])\n",
      "EncoderBlock torch.Size([128, 42, 128])\n",
      "tensor([0, 1, 0, 1, 1, 1, 1, 0, 0, 0, 1, 0, 0, 0, 1, 0, 1, 0, 0, 0, 0, 0, 1, 1,\n",
      "        1, 1, 0, 0, 0, 0, 0, 1, 1, 0, 1, 1, 0, 0, 1, 0, 0, 0, 0, 1, 0, 0, 0, 0,\n",
      "        0, 0, 0, 0, 0, 0, 0, 0, 0, 0, 1, 0, 0, 1, 0, 0, 0, 0, 1, 0, 1, 0, 0, 0,\n",
      "        0, 0, 1, 1, 0, 1, 0, 0, 0, 0, 1, 1, 0, 0, 1, 0, 0, 0, 0, 0, 0, 0, 0, 0,\n",
      "        0, 0, 0, 0, 1, 0, 0, 1, 0, 1, 0, 0, 0, 0, 0, 0, 0, 0, 0, 0, 1, 0, 1, 0,\n",
      "        1, 1, 0, 0, 0, 0, 1, 1])\n",
      "EncoderBlock torch.Size([128, 42, 128])\n",
      "tensor([0, 0, 0, 0, 0, 0, 1, 0, 0, 0, 0, 0, 0, 0, 0, 1, 0, 0, 1, 1, 0, 0, 0, 1,\n",
      "        0, 0, 1, 0, 0, 0, 1, 0, 0, 1, 0, 0, 0, 0, 0, 0, 1, 1, 0, 0, 0, 0, 1, 1,\n",
      "        0, 0, 0, 1, 1, 0, 0, 0, 1, 0, 0, 0, 0, 0, 0, 0, 0, 0, 1, 0, 0, 0, 1, 0,\n",
      "        0, 1, 0, 1, 0, 1, 0, 0, 0, 0, 0, 0, 0, 0, 0, 1, 1, 0, 0, 0, 0, 0, 1, 0,\n",
      "        1, 1, 0, 1, 0, 0, 1, 0, 0, 1, 0, 0, 0, 0, 0, 1, 0, 1, 0, 1, 0, 1, 0, 0,\n",
      "        1, 0, 1, 0, 0, 0, 0, 0])\n",
      "EncoderBlock torch.Size([128, 42, 128])\n",
      "tensor([0, 1, 0, 1, 0, 1, 0, 0, 0, 0, 0, 0, 0, 0, 0, 0, 1, 0, 1, 0, 0, 0, 0, 0,\n",
      "        0, 1, 1, 0, 1, 0, 0, 0, 0, 1, 0, 1, 0, 0, 0, 0, 0, 0, 0, 1, 1, 0, 0, 0,\n",
      "        0, 0, 0, 0, 0, 0, 1, 0, 0, 0, 0, 1, 0, 0, 0, 0, 0, 0, 0, 0, 0, 0, 0, 0,\n",
      "        1, 0, 0, 1, 0, 0, 0, 0, 0, 0, 0, 0, 0, 0, 0, 0, 0, 0, 0, 0, 0, 0, 0, 0,\n",
      "        0, 0, 0, 0, 1, 1, 1, 0, 0, 0, 0, 0, 0, 0, 1, 0, 0, 0, 0, 1, 0, 0, 0, 1,\n",
      "        0, 0, 0, 0, 0, 0, 1, 0])\n",
      "EncoderBlock torch.Size([128, 42, 128])\n",
      "tensor([1, 0, 0, 0, 1, 0, 0, 0, 0, 0, 0, 0, 0, 0, 0, 1, 0, 0, 0, 1, 0, 0, 1, 0,\n",
      "        0, 0, 1, 0, 1, 0, 1, 1, 1, 1, 0, 0, 1, 1, 0, 0, 0, 0, 0, 1, 1, 0, 0, 1,\n",
      "        0, 0, 0, 0, 1, 0, 1, 0, 0, 0, 1, 0, 1, 0, 0, 1, 0, 0, 0, 1, 1, 1, 0, 0,\n",
      "        0, 0, 0, 0, 1, 0, 0, 1, 1, 1, 1, 1, 0, 0, 0, 0, 0, 0, 0, 0, 0, 0, 0, 0,\n",
      "        0, 0, 0, 1, 0, 1, 1, 1, 1, 0, 0, 1, 0, 0, 0, 1, 0, 0, 0, 0, 0, 0, 0, 0,\n",
      "        1, 1, 0, 0, 1, 1, 1, 0])\n",
      "EncoderBlock torch.Size([128, 42, 128])\n"
     ]
    },
    {
     "name": "stderr",
     "output_type": "stream",
     "text": [
      "\n",
      "\u001b[32mEvaluating\u001b[0m:  31%|███████▋                 | 1280/4188 [00:00<00:01, 2738.56it/s]\u001b[0m\u001b[A\n",
      "\u001b[32mEvaluating\u001b[0m:  34%|████████▍                | 1408/4188 [00:00<00:01, 2766.17it/s]\u001b[0m\u001b[A\n",
      "\u001b[32mEvaluating\u001b[0m:  34%|████████▍                | 1408/4188 [00:00<00:01, 2766.17it/s]\u001b[0m\u001b[A\n",
      "\u001b[32mEvaluating\u001b[0m:  37%|█████████▏               | 1536/4188 [00:00<00:00, 2766.17it/s]\u001b[0m\u001b[A\n",
      "\u001b[32mEvaluating\u001b[0m:  40%|█████████▉               | 1664/4188 [00:00<00:00, 2766.17it/s]\u001b[0m\u001b[A\n",
      "\u001b[32mEvaluating\u001b[0m:  43%|██████████▋              | 1792/4188 [00:00<00:00, 2723.06it/s]\u001b[0m\u001b[A"
     ]
    },
    {
     "name": "stdout",
     "output_type": "stream",
     "text": [
      "tensor([0, 0, 1, 1, 0, 0, 1, 0, 0, 0, 0, 1, 0, 0, 1, 1, 1, 0, 1, 0, 0, 0, 1, 1,\n",
      "        1, 1, 1, 0, 0, 1, 1, 0, 0, 0, 0, 0, 0, 0, 1, 0, 0, 0, 0, 1, 0, 0, 0, 0,\n",
      "        0, 1, 1, 1, 0, 0, 1, 0, 0, 0, 1, 0, 1, 0, 0, 0, 1, 0, 1, 0, 0, 0, 0, 0,\n",
      "        0, 1, 0, 0, 0, 0, 1, 0, 1, 0, 0, 0, 0, 0, 0, 1, 0, 0, 0, 1, 0, 1, 1, 1,\n",
      "        0, 0, 0, 0, 0, 0, 1, 0, 1, 0, 1, 1, 1, 0, 0, 0, 0, 0, 0, 1, 0, 0, 0, 1,\n",
      "        0, 1, 0, 0, 0, 0, 0, 0])\n",
      "EncoderBlock torch.Size([128, 42, 128])\n",
      "tensor([0, 0, 1, 0, 0, 0, 0, 0, 0, 0, 0, 0, 0, 1, 1, 1, 0, 1, 0, 0, 0, 0, 0, 0,\n",
      "        0, 1, 1, 0, 0, 0, 0, 0, 0, 0, 1, 0, 0, 0, 0, 0, 1, 1, 1, 0, 0, 0, 0, 0,\n",
      "        1, 0, 0, 0, 0, 0, 0, 1, 0, 0, 0, 0, 0, 1, 1, 0, 0, 0, 0, 1, 0, 0, 1, 0,\n",
      "        0, 1, 0, 0, 1, 0, 0, 0, 0, 1, 0, 0, 0, 0, 0, 1, 0, 0, 0, 0, 1, 0, 0, 0,\n",
      "        0, 0, 0, 0, 1, 1, 0, 1, 0, 1, 0, 0, 0, 0, 1, 0, 0, 1, 1, 0, 0, 0, 0, 0,\n",
      "        0, 0, 0, 1, 0, 0, 0, 1])\n",
      "EncoderBlock torch.Size([128, 42, 128])\n",
      "tensor([1, 0, 0, 1, 0, 0, 0, 1, 1, 0, 1, 0, 0, 0, 0, 1, 1, 0, 1, 0, 0, 0, 1, 0,\n",
      "        0, 1, 0, 1, 0, 1, 0, 1, 0, 0, 0, 0, 0, 0, 0, 0, 0, 1, 0, 0, 0, 0, 0, 0,\n",
      "        0, 0, 0, 0, 0, 1, 0, 0, 1, 1, 0, 0, 0, 1, 0, 0, 0, 0, 1, 0, 0, 0, 0, 1,\n",
      "        0, 1, 0, 1, 0, 1, 0, 1, 0, 1, 0, 0, 0, 1, 0, 0, 1, 1, 0, 0, 0, 0, 0, 0,\n",
      "        1, 0, 1, 1, 1, 0, 0, 0, 0, 0, 0, 1, 0, 0, 0, 0, 0, 0, 1, 0, 0, 0, 0, 1,\n",
      "        0, 1, 1, 0, 0, 1, 1, 0])\n",
      "EncoderBlock torch.Size([128, 42, 128])\n",
      "tensor([0, 0, 0, 0, 0, 1, 0, 1, 1, 0, 0, 0, 0, 0, 0, 0, 0, 0, 0, 0, 0, 1, 0, 0,\n",
      "        0, 1, 0, 0, 0, 1, 0, 0, 0, 0, 0, 0, 0, 0, 0, 1, 0, 1, 0, 0, 0, 1, 0, 0,\n",
      "        0, 0, 0, 1, 0, 1, 0, 1, 0, 0, 1, 1, 0, 0, 1, 1, 0, 0, 1, 0, 0, 0, 0, 0,\n",
      "        0, 0, 0, 0, 0, 0, 1, 0, 0, 1, 0, 0, 1, 0, 1, 1, 0, 1, 0, 0, 0, 0, 0, 0,\n",
      "        0, 0, 1, 1, 1, 0, 0, 1, 1, 1, 1, 1, 1, 0, 0, 0, 0, 0, 1, 0, 0, 1, 0, 0,\n",
      "        0, 0, 0, 0, 0, 0, 0, 1])\n",
      "EncoderBlock torch.Size([128, 42, 128])\n",
      "tensor([0, 1, 0, 0, 0, 0, 0, 0, 0, 0, 0, 0, 0, 0, 0, 1, 0, 1, 1, 0, 0, 0, 0, 1,\n",
      "        1, 0, 1, 0, 1, 0, 0, 1, 0, 0, 1, 0, 1, 1, 1, 1, 0, 1, 1, 0, 0, 0, 0, 0,\n",
      "        0, 0, 1, 0, 0, 0, 0, 0, 1, 1, 0, 0, 1, 1, 0, 1, 1, 1, 0, 0, 0, 0, 0, 1,\n",
      "        1, 1, 0, 1, 0, 1, 0, 0, 1, 0, 1, 0, 0, 0, 1, 0, 0, 0, 1, 0, 1, 0, 0, 0,\n",
      "        0, 1, 0, 1, 0, 1, 1, 0, 1, 1, 0, 1, 1, 0, 1, 0, 0, 0, 0, 0, 1, 0, 0, 0,\n",
      "        0, 0, 0, 0, 0, 0, 0, 1])\n"
     ]
    },
    {
     "name": "stderr",
     "output_type": "stream",
     "text": [
      "\n",
      "\u001b[32mEvaluating\u001b[0m:  43%|██████████▋              | 1792/4188 [00:00<00:00, 2723.06it/s]\u001b[0m\u001b[A\n",
      "\u001b[32mEvaluating\u001b[0m:  46%|███████████▍             | 1920/4188 [00:00<00:00, 2723.06it/s]\u001b[0m\u001b[A\n",
      "\u001b[32mEvaluating\u001b[0m:  49%|████████████▏            | 2048/4188 [00:00<00:00, 2723.06it/s]\u001b[0m\u001b[A\n",
      "\u001b[32mEvaluating\u001b[0m:  52%|████████████▉            | 2176/4188 [00:00<00:00, 2749.54it/s]\u001b[0m\u001b[A\n",
      "\u001b[32mEvaluating\u001b[0m:  52%|████████████▉            | 2176/4188 [00:00<00:00, 2749.54it/s]\u001b[0m\u001b[A\n",
      "\u001b[32mEvaluating\u001b[0m:  55%|█████████████▊           | 2304/4188 [00:00<00:00, 2749.54it/s]\u001b[0m\u001b[A"
     ]
    },
    {
     "name": "stdout",
     "output_type": "stream",
     "text": [
      "EncoderBlock torch.Size([128, 42, 128])\n",
      "tensor([0, 0, 0, 0, 0, 0, 1, 0, 0, 0, 1, 0, 0, 1, 0, 0, 1, 0, 0, 1, 1, 1, 1, 1,\n",
      "        0, 1, 0, 0, 0, 0, 1, 1, 0, 1, 0, 0, 1, 0, 0, 0, 0, 1, 0, 0, 1, 1, 0, 0,\n",
      "        0, 0, 0, 0, 0, 1, 0, 0, 0, 0, 1, 0, 0, 1, 0, 0, 1, 0, 1, 0, 0, 0, 0, 1,\n",
      "        0, 0, 0, 0, 1, 0, 0, 0, 1, 0, 0, 0, 0, 0, 0, 0, 1, 0, 0, 0, 1, 0, 0, 1,\n",
      "        0, 1, 1, 0, 1, 0, 1, 0, 0, 0, 1, 0, 1, 0, 1, 0, 0, 0, 0, 0, 0, 0, 1, 1,\n",
      "        1, 1, 0, 0, 0, 0, 0, 0])\n",
      "EncoderBlock torch.Size([128, 42, 128])\n",
      "tensor([0, 1, 1, 0, 0, 0, 0, 0, 0, 0, 0, 1, 1, 0, 0, 1, 0, 0, 0, 1, 0, 0, 0, 1,\n",
      "        0, 1, 0, 0, 0, 0, 0, 0, 1, 0, 1, 1, 0, 0, 0, 0, 1, 0, 0, 1, 0, 0, 0, 1,\n",
      "        1, 1, 1, 0, 0, 0, 0, 0, 0, 1, 0, 0, 1, 0, 1, 0, 1, 0, 0, 0, 0, 0, 0, 1,\n",
      "        0, 1, 0, 0, 0, 0, 0, 0, 0, 0, 1, 0, 1, 1, 0, 0, 0, 0, 0, 0, 0, 0, 0, 0,\n",
      "        0, 1, 1, 0, 0, 0, 0, 1, 1, 0, 0, 1, 0, 0, 0, 0, 1, 1, 1, 0, 0, 0, 0, 1,\n",
      "        0, 0, 0, 0, 0, 0, 1, 0])\n",
      "EncoderBlock torch.Size([128, 42, 128])\n",
      "tensor([1, 0, 0, 0, 0, 0, 0, 0, 0, 0, 0, 0, 0, 0, 1, 0, 0, 0, 0, 1, 0, 0, 0, 0,\n",
      "        0, 0, 0, 0, 0, 0, 1, 0, 0, 0, 0, 0, 0, 1, 0, 0, 0, 0, 0, 1, 0, 1, 1, 1,\n",
      "        0, 0, 0, 0, 0, 1, 0, 0, 0, 0, 0, 1, 0, 1, 1, 0, 1, 0, 1, 0, 1, 1, 0, 0,\n",
      "        0, 0, 0, 0, 0, 0, 0, 0, 0, 0, 0, 0, 0, 0, 1, 0, 0, 0, 1, 1, 0, 1, 0, 0,\n",
      "        1, 0, 0, 0, 1, 0, 1, 1, 0, 1, 1, 0, 0, 1, 1, 0, 1, 0, 0, 0, 0, 1, 0, 0,\n",
      "        1, 1, 0, 0, 0, 1, 0, 1])\n",
      "EncoderBlock torch.Size([128, 42, 128])\n",
      "tensor([0, 0, 0, 1, 0, 0, 1, 0, 0, 0, 0, 0, 0, 0, 1, 0, 1, 0, 0, 0, 1, 0, 0, 1,\n",
      "        0, 1, 1, 1, 0, 0, 1, 1, 0, 1, 0, 0, 1, 0, 0, 0, 0, 1, 0, 0, 1, 0, 0, 0,\n",
      "        0, 0, 0, 0, 0, 1, 0, 0, 1, 0, 0, 0, 0, 0, 1, 0, 0, 0, 0, 0, 1, 1, 0, 0,\n",
      "        1, 0, 1, 1, 0, 0, 0, 0, 1, 1, 0, 0, 1, 0, 0, 0, 0, 0, 1, 0, 0, 0, 1, 1,\n",
      "        1, 0, 0, 1, 0, 0, 0, 1, 0, 0, 0, 0, 0, 0, 0, 1, 0, 0, 1, 1, 0, 0, 0, 0,\n",
      "        0, 0, 1, 0, 0, 0, 1, 0])\n",
      "EncoderBlock torch.Size([128, 42, 128])\n"
     ]
    },
    {
     "name": "stderr",
     "output_type": "stream",
     "text": [
      "\n",
      "\u001b[32mEvaluating\u001b[0m:  58%|██████████████▌          | 2432/4188 [00:00<00:00, 2749.54it/s]\u001b[0m\u001b[A\n",
      "\u001b[32mEvaluating\u001b[0m:  61%|███████████████▎         | 2560/4188 [00:00<00:00, 2754.91it/s]\u001b[0m\u001b[A\n",
      "\u001b[32mEvaluating\u001b[0m:  61%|███████████████▎         | 2560/4188 [00:00<00:00, 2754.91it/s]\u001b[0m\u001b[A\n",
      "\u001b[32mEvaluating\u001b[0m:  64%|████████████████         | 2688/4188 [00:01<00:00, 2754.91it/s]\u001b[0m\u001b[A\n",
      "\u001b[32mEvaluating\u001b[0m:  67%|████████████████▊        | 2816/4188 [00:01<00:00, 2754.91it/s]\u001b[0m\u001b[A\n",
      "\u001b[32mEvaluating\u001b[0m:  70%|█████████████████▌       | 2944/4188 [00:01<00:00, 2749.03it/s]\u001b[0m\u001b[A\n",
      "\u001b[32mEvaluating\u001b[0m:  70%|█████████████████▌       | 2944/4188 [00:01<00:00, 2749.03it/s]\u001b[0m\u001b[A"
     ]
    },
    {
     "name": "stdout",
     "output_type": "stream",
     "text": [
      "tensor([0, 1, 0, 1, 0, 0, 0, 0, 0, 0, 0, 0, 0, 0, 0, 0, 0, 1, 0, 0, 0, 0, 0, 0,\n",
      "        0, 1, 0, 0, 0, 0, 0, 0, 1, 0, 0, 0, 0, 0, 1, 0, 0, 0, 0, 0, 0, 0, 0, 0,\n",
      "        1, 0, 0, 1, 0, 0, 0, 0, 1, 0, 1, 1, 0, 1, 1, 1, 0, 0, 0, 0, 0, 1, 0, 1,\n",
      "        0, 0, 1, 1, 0, 1, 0, 0, 0, 0, 0, 0, 0, 0, 0, 0, 0, 0, 0, 0, 1, 0, 1, 0,\n",
      "        0, 0, 0, 1, 0, 0, 0, 0, 0, 0, 0, 1, 0, 0, 0, 0, 1, 1, 0, 0, 1, 0, 1, 0,\n",
      "        0, 0, 0, 0, 1, 1, 0, 0])\n",
      "EncoderBlock torch.Size([128, 42, 128])\n",
      "tensor([0, 0, 1, 1, 0, 0, 0, 1, 0, 0, 0, 1, 0, 1, 0, 1, 1, 0, 0, 0, 0, 1, 0, 0,\n",
      "        0, 0, 0, 0, 0, 0, 0, 1, 0, 0, 0, 0, 1, 1, 0, 0, 0, 0, 0, 0, 0, 0, 1, 1,\n",
      "        0, 1, 1, 0, 1, 1, 0, 1, 0, 0, 1, 0, 0, 0, 0, 1, 0, 0, 0, 0, 0, 0, 0, 0,\n",
      "        0, 1, 0, 1, 1, 1, 1, 0, 0, 0, 1, 1, 0, 0, 0, 0, 0, 0, 0, 0, 1, 0, 0, 1,\n",
      "        0, 0, 0, 0, 1, 0, 0, 0, 0, 0, 0, 0, 0, 1, 0, 0, 1, 1, 1, 0, 0, 0, 0, 0,\n",
      "        0, 1, 1, 0, 0, 0, 1, 0])\n",
      "EncoderBlock torch.Size([128, 42, 128])\n",
      "tensor([0, 1, 1, 0, 0, 0, 0, 1, 0, 0, 0, 0, 0, 0, 0, 0, 0, 0, 1, 1, 0, 0, 0, 0,\n",
      "        1, 0, 0, 1, 0, 1, 1, 0, 0, 0, 0, 0, 0, 0, 0, 0, 0, 0, 0, 0, 0, 0, 0, 1,\n",
      "        0, 0, 0, 0, 1, 0, 0, 0, 0, 0, 1, 1, 0, 0, 1, 0, 0, 0, 0, 0, 1, 0, 0, 0,\n",
      "        1, 0, 1, 0, 1, 0, 1, 0, 0, 0, 0, 0, 0, 0, 0, 0, 0, 0, 0, 1, 0, 1, 0, 0,\n",
      "        0, 0, 0, 1, 0, 0, 0, 0, 0, 1, 0, 1, 0, 0, 0, 1, 1, 1, 1, 0, 0, 0, 1, 0,\n",
      "        1, 0, 0, 1, 0, 0, 0, 0])\n",
      "EncoderBlock torch.Size([128, 42, 128])\n",
      "tensor([0, 0, 0, 0, 0, 0, 0, 0, 0, 0, 0, 1, 1, 0, 0, 0, 1, 1, 1, 0, 0, 0, 1, 1,\n",
      "        0, 0, 1, 0, 0, 0, 0, 1, 0, 0, 1, 0, 0, 0, 1, 1, 0, 0, 0, 0, 0, 0, 0, 1,\n",
      "        0, 1, 0, 0, 0, 0, 1, 0, 1, 0, 1, 0, 1, 1, 0, 0, 1, 0, 0, 0, 0, 1, 0, 1,\n",
      "        0, 0, 0, 1, 0, 1, 0, 0, 1, 0, 1, 1, 0, 1, 1, 0, 0, 0, 0, 0, 0, 1, 0, 1,\n",
      "        1, 0, 0, 0, 1, 1, 0, 0, 0, 0, 1, 0, 0, 0, 0, 0, 0, 1, 0, 0, 0, 1, 0, 1,\n",
      "        0, 0, 0, 0, 0, 0, 1, 0])\n",
      "EncoderBlock torch.Size([128, 42, 128])\n",
      "tensor([0, 0, 0, 1, 0, 1, 1, 0, 0, 0, 0, 0, 0, 0, 0, 1, 1, 1, 1, 0, 0, 0, 0, 0,\n",
      "        0, 0, 0, 1, 0, 1, 1, 0, 0, 1, 0, 1, 0, 0, 0, 1, 0, 0, 1, 1, 0, 0, 0, 1,\n",
      "        0, 0, 0, 0, 0, 0, 0, 0, 0, 0, 0, 0, 0, 1, 0, 0, 0, 0, 0, 0, 0, 0, 1, 0,\n",
      "        0, 0, 1, 0, 1, 0, 1, 0, 0, 0, 0, 0, 0, 0, 1, 0, 1, 0, 0, 1, 0, 0, 0, 1,\n",
      "        0, 1, 0, 1, 0, 1, 0, 0, 0, 0, 0, 0, 0, 0, 1, 0, 0, 1, 0, 1, 0, 0, 0, 1,\n",
      "        0, 0, 0, 1, 1, 1, 1, 0])\n"
     ]
    },
    {
     "name": "stderr",
     "output_type": "stream",
     "text": [
      "\n",
      "\u001b[32mEvaluating\u001b[0m:  73%|██████████████████▎      | 3072/4188 [00:01<00:00, 2749.03it/s]\u001b[0m\u001b[A\n",
      "\u001b[32mEvaluating\u001b[0m:  76%|███████████████████      | 3200/4188 [00:01<00:00, 2749.03it/s]\u001b[0m\u001b[A\n",
      "\u001b[32mEvaluating\u001b[0m:  79%|███████████████████▊     | 3328/4188 [00:01<00:00, 2761.50it/s]\u001b[0m\u001b[A\n",
      "\u001b[32mEvaluating\u001b[0m:  79%|███████████████████▊     | 3328/4188 [00:01<00:00, 2761.50it/s]\u001b[0m\u001b[A\n",
      "\u001b[32mEvaluating\u001b[0m:  83%|████████████████████▋    | 3456/4188 [00:01<00:00, 2761.50it/s]\u001b[0m\u001b[A"
     ]
    },
    {
     "name": "stdout",
     "output_type": "stream",
     "text": [
      "EncoderBlock torch.Size([128, 42, 128])\n",
      "tensor([1, 0, 1, 0, 0, 0, 0, 0, 1, 0, 0, 0, 1, 1, 0, 0, 0, 0, 0, 1, 0, 0, 0, 1,\n",
      "        1, 0, 0, 0, 1, 1, 0, 0, 0, 0, 0, 0, 1, 0, 0, 1, 0, 1, 1, 1, 0, 0, 0, 0,\n",
      "        0, 1, 0, 0, 0, 0, 1, 1, 1, 0, 0, 0, 1, 0, 0, 1, 0, 1, 1, 0, 0, 0, 0, 0,\n",
      "        1, 0, 0, 0, 0, 1, 0, 0, 0, 0, 0, 0, 1, 0, 0, 0, 0, 0, 0, 0, 1, 0, 0, 0,\n",
      "        0, 0, 1, 0, 0, 0, 1, 0, 1, 0, 1, 1, 0, 0, 1, 1, 0, 0, 1, 0, 0, 0, 0, 0,\n",
      "        1, 0, 0, 0, 0, 1, 0, 1])\n",
      "EncoderBlock torch.Size([128, 42, 128])\n",
      "tensor([1, 0, 0, 0, 1, 0, 1, 0, 0, 0, 0, 0, 0, 0, 1, 0, 0, 0, 1, 1, 0, 0, 0, 1,\n",
      "        0, 0, 1, 0, 0, 1, 0, 0, 0, 1, 1, 0, 0, 0, 0, 0, 0, 0, 0, 0, 1, 0, 0, 0,\n",
      "        1, 0, 0, 1, 0, 0, 1, 1, 1, 0, 0, 1, 1, 0, 1, 0, 1, 0, 0, 0, 0, 0, 0, 0,\n",
      "        1, 0, 0, 1, 1, 0, 0, 0, 0, 0, 0, 1, 0, 0, 0, 0, 0, 0, 0, 0, 0, 1, 0, 0,\n",
      "        0, 1, 1, 0, 0, 1, 0, 1, 1, 1, 0, 0, 0, 1, 0, 0, 0, 0, 0, 0, 0, 0, 0, 1,\n",
      "        1, 0, 0, 0, 0, 1, 0, 0])\n",
      "EncoderBlock torch.Size([128, 42, 128])\n",
      "tensor([0, 0, 0, 0, 0, 1, 1, 0, 0, 0, 0, 0, 0, 0, 1, 0, 0, 1, 0, 1, 1, 0, 1, 0,\n",
      "        1, 1, 0, 0, 0, 0, 0, 0, 0, 0, 0, 1, 1, 1, 0, 0, 0, 1, 0, 0, 1, 0, 0, 1,\n",
      "        0, 0, 0, 0, 1, 0, 1, 1, 1, 1, 0, 0, 0, 0, 1, 0, 0, 1, 0, 1, 0, 0, 0, 0,\n",
      "        0, 1, 1, 0, 1, 0, 0, 0, 0, 0, 1, 0, 0, 0, 0, 1, 0, 0, 0, 0, 1, 0, 0, 0,\n",
      "        0, 0, 0, 1, 1, 0, 0, 1, 0, 0, 0, 0, 0, 1, 0, 0, 0, 1, 0, 0, 1, 0, 1, 0,\n",
      "        0, 0, 1, 0, 0, 0, 1, 0])\n",
      "EncoderBlock torch.Size([128, 42, 128])\n",
      "tensor([0, 0, 0, 0, 0, 1, 0, 1, 0, 0, 1, 1, 1, 0, 0, 1, 0, 0, 1, 0, 0, 1, 0, 0,\n",
      "        0, 1, 0, 0, 0, 1, 1, 0, 1, 0, 0, 0, 1, 0, 1, 0, 0, 1, 0, 1, 1, 1, 0, 0,\n",
      "        0, 1, 0, 0, 0, 0, 0, 0, 1, 0, 1, 0, 1, 0, 0, 1, 0, 0, 1, 0, 0, 0, 0, 0,\n",
      "        0, 1, 0, 0, 0, 0, 0, 1, 0, 0, 1, 0, 0, 0, 0, 1, 1, 0, 1, 0, 0, 0, 1, 0,\n",
      "        0, 0, 0, 0, 0, 0, 0, 1, 0, 0, 0, 0, 0, 0, 1, 0, 0, 0, 0, 0, 0, 1, 1, 1,\n",
      "        0, 0, 0, 1, 0, 0, 0, 0])\n",
      "EncoderBlock torch.Size([128, 42, 128])\n"
     ]
    },
    {
     "name": "stderr",
     "output_type": "stream",
     "text": [
      "\n",
      "\u001b[32mEvaluating\u001b[0m:  86%|█████████████████████▍   | 3584/4188 [00:01<00:00, 2761.50it/s]\u001b[0m\u001b[A\n",
      "\u001b[32mEvaluating\u001b[0m:  89%|██████████████████████▏  | 3712/4188 [00:01<00:00, 2792.52it/s]\u001b[0m\u001b[A\n",
      "\u001b[32mEvaluating\u001b[0m:  89%|██████████████████████▏  | 3712/4188 [00:01<00:00, 2792.52it/s]\u001b[0m\u001b[A\n",
      "\u001b[32mEvaluating\u001b[0m:  92%|██████████████████████▉  | 3840/4188 [00:01<00:00, 2792.52it/s]\u001b[0m\u001b[A\n",
      "\u001b[32mEvaluating\u001b[0m:  95%|███████████████████████▋ | 3968/4188 [00:01<00:00, 2792.52it/s]\u001b[0m\u001b[A\n",
      "\u001b[32mEvaluating\u001b[0m:  98%|████████████████████████▍| 4096/4188 [00:01<00:00, 2785.38it/s]\u001b[0m\u001b[A"
     ]
    },
    {
     "name": "stdout",
     "output_type": "stream",
     "text": [
      "tensor([1, 0, 1, 0, 0, 1, 1, 0, 0, 0, 0, 0, 0, 1, 1, 1, 0, 1, 0, 0, 0, 0, 0, 1,\n",
      "        0, 1, 0, 0, 1, 0, 0, 0, 1, 0, 0, 0, 0, 0, 0, 0, 1, 0, 0, 1, 1, 0, 0, 1,\n",
      "        0, 0, 0, 1, 1, 0, 0, 0, 0, 0, 0, 0, 0, 1, 1, 0, 1, 0, 0, 0, 0, 0, 0, 1,\n",
      "        0, 0, 0, 1, 0, 0, 0, 0, 0, 0, 0, 0, 0, 0, 0, 0, 0, 0, 0, 0, 1, 0, 0, 0,\n",
      "        0, 1, 0, 1, 1, 0, 0, 1, 0, 0, 0, 1, 0, 0, 0, 0, 1, 0, 0, 1, 0, 0, 0, 1,\n",
      "        0, 0, 1, 0, 1, 0, 0, 0])\n",
      "EncoderBlock torch.Size([128, 42, 128])\n",
      "tensor([0, 0, 1, 0, 0, 0, 1, 0, 0, 1, 0, 0, 0, 0, 0, 0, 1, 0, 0, 0, 0, 0, 1, 0,\n",
      "        0, 0, 0, 1, 0, 1, 1, 1, 0, 0, 1, 1, 0, 0, 1, 0, 1, 1, 0, 0, 1, 0, 0, 1,\n",
      "        0, 0, 1, 0, 1, 0, 0, 0, 0, 1, 0, 0, 0, 0, 0, 0, 0, 1, 0, 0, 0, 0, 0, 0,\n",
      "        0, 1, 1, 0, 0, 1, 0, 0, 0, 0, 0, 0, 0, 1, 0, 0, 1, 1, 0, 0, 0, 0, 0, 1,\n",
      "        0, 0, 1, 1, 0, 0, 0, 0, 1, 0, 0, 0, 0, 0, 0, 0, 1, 0, 0, 1, 0, 0, 1, 0,\n",
      "        0, 0, 0, 1, 0, 1, 0, 0])\n",
      "EncoderBlock torch.Size([128, 42, 128])\n",
      "tensor([1, 0, 0, 0, 0, 1, 0, 0, 0, 0, 0, 0, 1, 0, 0, 1, 0, 1, 0, 0, 0, 0, 0, 0,\n",
      "        0, 0, 0, 0, 1, 0, 0, 0, 1, 1, 1, 0, 0, 0, 0, 1, 1, 1, 0, 0, 0, 0, 0, 1,\n",
      "        0, 0, 1, 1, 0, 0, 0, 0, 0, 0, 0, 0, 1, 0, 0, 0, 0, 0, 0, 0, 0, 0, 0, 0,\n",
      "        0, 0, 0, 0, 0, 1, 1, 0, 0, 0, 0, 0, 0, 0, 0, 0, 0, 0, 1, 0, 1, 1, 0, 1,\n",
      "        0, 1, 0, 0, 1, 0, 0, 0, 0, 0, 1, 0, 0, 1, 0, 0, 0, 0, 0, 1, 1, 0, 0, 0,\n",
      "        0, 1, 0, 0, 1, 0, 0, 0])\n",
      "EncoderBlock torch.Size([128, 42, 128])\n",
      "tensor([1, 0, 0, 1, 0, 0, 0, 0, 1, 0, 0, 0, 0, 0, 1, 1, 1, 0, 0, 0, 1, 0, 0, 0,\n",
      "        1, 0, 0, 0, 0, 0, 0, 1, 0, 0, 1, 0, 1, 0, 0, 0, 0, 0, 0, 0, 0, 0, 0, 0,\n",
      "        1, 0, 0, 1, 0, 0, 0, 0, 1, 0, 0, 1, 1, 0, 1, 0, 0, 0, 0, 1, 0, 1, 0, 0,\n",
      "        1, 0, 0, 0, 1, 0, 0, 0, 1, 0, 0, 0, 0, 1, 1, 1, 0, 0, 0, 0, 0, 1, 1, 0,\n",
      "        0, 0, 1, 0, 0, 1, 0, 0, 1, 1, 1, 0, 1, 0, 0, 0, 0, 0, 0, 0, 1, 0, 1, 0,\n",
      "        0, 0, 0, 0, 1, 0, 0, 0])\n",
      "EncoderBlock torch.Size([128, 42, 128])\n",
      "tensor([0, 0, 1, 0, 0, 0, 0, 1, 1, 0, 0, 0, 1, 0, 0, 0, 0, 1, 0, 0, 0, 0, 1, 0,\n",
      "        0, 1, 0, 1, 1, 0, 1, 0, 0, 1, 0, 0, 0, 0, 0, 0, 0, 0, 1, 0, 0, 0, 0, 1,\n",
      "        0, 0, 1, 1, 0, 0, 0, 0, 0, 0, 1, 0, 0, 0, 1, 0, 0, 1, 0, 0, 1, 0, 1, 0,\n",
      "        0, 1, 0, 0, 1, 1, 0, 0, 0, 1, 1, 0, 1, 0, 0, 0, 1, 1, 0, 0, 0, 0, 0, 0,\n",
      "        1, 0, 0, 1, 1, 0, 0, 0, 1, 0, 0, 0, 1, 0, 0, 0, 1, 1, 1, 0, 1, 0, 0, 0,\n",
      "        1, 0, 0, 1, 0, 0, 1, 0])\n"
     ]
    },
    {
     "name": "stderr",
     "output_type": "stream",
     "text": [
      "\n",
      "\u001b[32mEvaluating\u001b[0m:  98%|████████████████████████▍| 4096/4188 [00:01<00:00, 2785.38it/s]\u001b[0m\u001b[A"
     ]
    },
    {
     "name": "stdout",
     "output_type": "stream",
     "text": [
      "EncoderBlock torch.Size([92, 42, 128])\n",
      "tensor([0, 1, 0, 0, 0, 0, 0, 0, 0, 1, 1, 1, 0, 0, 1, 0, 0, 0, 1, 0, 1, 0, 0, 0,\n",
      "        1, 0, 0, 0, 0, 0, 0, 1, 1, 0, 1, 0, 0, 0, 0, 0, 0, 0, 0, 1, 0, 0, 0, 0,\n",
      "        0, 1, 0, 1, 0, 0, 1, 0, 0, 0, 0, 1, 0, 1, 1, 1, 0, 0, 0, 0, 1, 0, 0, 0,\n",
      "        0, 1, 0, 0, 0, 0, 0, 0, 0, 1, 0, 0, 0, 0, 0, 0, 0, 0, 0, 0])\n"
     ]
    },
    {
     "name": "stderr",
     "output_type": "stream",
     "text": [
      "\n",
      "\u001b[32mEvaluating\u001b[0m: 100%|█████████████████████████| 4188/4188 [00:12<00:00, 2785.38it/s]\u001b[0m\u001b[A"
     ]
    }
   ],
   "source": [
    "import tqdm\n",
    "\n",
    "correct = 0.0\n",
    "total = 0.0\n",
    "device = torch.device(\"cuda\" if torch.cuda.is_available() else \"cpu\")\n",
    "pbar = tqdm.tqdm(total=len(test_loader.dataset))\n",
    "model = SAnD(in_feature, seq_len, n_heads, factor, num_class, num_layers)\n",
    "model = model.to(device)\n",
    "criterion = nn.CrossEntropyLoss()\n",
    "Y_pred= []\n",
    "Y_true = []\n",
    "for x, y in test_loader:\n",
    "#     print(\"Here is type & shape\", type(y), y.shape)\n",
    "    b_size = y.shape[0]\n",
    "    total += y.shape[0]\n",
    "    x = x.to(device) if isinstance(x, torch.Tensor) else [i.to(device) for i in x]\n",
    "    y = y.to(device)\n",
    "    \n",
    "    pbar.set_description(\"\\033[32m\"+\"Evaluating\"+\"\\033[0m\")\n",
    "    pbar.update(b_size)\n",
    "\n",
    "    outputs = model(x)\n",
    "#     print(outputs)\n",
    "    idx = torch.argmax(outputs, dim=1) \n",
    "    print(idx)\n",
    "#     _, predicted = torch.max(outputs, 1)\n",
    "    Y_pred.append(idx)\n",
    "    Y_true.append(y)\n",
    "\n",
    "#     multilabel_auroc(predicted, y,num_labels=2, average=\"macro\", thresholds=None)\n",
    "\n",
    "Y_pred = np.concatenate(Y_pred, axis=0)\n",
    "Y_true = np.concatenate(Y_true, axis=0)\n",
    "# print(Y_pred)"
   ]
  },
  {
   "cell_type": "code",
   "execution_count": 27,
   "id": "9827e042",
   "metadata": {},
   "outputs": [
    {
     "data": {
      "text/plain": [
       "0.5062732151747232"
      ]
     },
     "execution_count": 27,
     "metadata": {},
     "output_type": "execute_result"
    }
   ],
   "source": [
    "from sklearn.metrics import roc_auc_score\n",
    "roc_auc_score(\n",
    "    Y_pred,\n",
    "    Y_true,\n",
    "    multi_class=\"raise\",\n",
    "    average=\"micro\",\n",
    ")"
   ]
  },
  {
   "cell_type": "code",
   "execution_count": 28,
   "id": "487a1dce",
   "metadata": {},
   "outputs": [
    {
     "name": "stdout",
     "output_type": "stream",
     "text": [
      "0.260012673938658\n"
     ]
    }
   ],
   "source": [
    "from sklearn.metrics import precision_score, recall_score, auc, precision_recall_curve\n",
    "p = precision_score(Y_true, Y_pred)\n",
    "r = recall_score(Y_true, Y_pred)\n",
    "p, r, thresholds1  = precision_recall_curve(Y_true, Y_pred)\n",
    "auc_score = auc(r, p)\n",
    "print(auc_score)"
   ]
  },
  {
   "cell_type": "code",
   "execution_count": null,
   "id": "5f5b087a",
   "metadata": {},
   "outputs": [],
   "source": []
  }
 ],
 "metadata": {
  "kernelspec": {
   "display_name": "Python 3 (ipykernel)",
   "language": "python",
   "name": "python3"
  },
  "language_info": {
   "codemirror_mode": {
    "name": "ipython",
    "version": 3
   },
   "file_extension": ".py",
   "mimetype": "text/x-python",
   "name": "python",
   "nbconvert_exporter": "python",
   "pygments_lexer": "ipython3",
   "version": "3.9.13"
  }
 },
 "nbformat": 4,
 "nbformat_minor": 5
}
